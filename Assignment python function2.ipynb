{
 "cells": [
  {
   "cell_type": "markdown",
   "id": "3fdcd8eb-7e88-4de4-95b7-575bd308dc2d",
   "metadata": {},
   "source": [
    "Q1. Create a python program to sort the given list of tuples based on integer value using a\n",
    "lambda function.\n",
    "[('Sachin Tendulkar', 34357), ('Ricky Ponting', 27483), ('Jack Kallis', 25534), ('Virat Kohli', 24936)]"
   ]
  },
  {
   "cell_type": "code",
   "execution_count": 1,
   "id": "6c1b2cb5-228a-4b3c-9a05-3b26d1fd7122",
   "metadata": {},
   "outputs": [
    {
     "name": "stdout",
     "output_type": "stream",
     "text": [
      "[('Virat Kohli', 24936), ('Jack Kallis', 25534), ('Ricky Ponting', 27483), ('Sachin Tendulkar', 34357)]\n"
     ]
    }
   ],
   "source": [
    "li=[('Sachin Tendulkar', 34357),\n",
    "     ('Ricky Ponting', 27483), \n",
    "     ('Jack Kallis', 25534), \n",
    "     ('Virat Kohli', 24936)]\n",
    "odd_list = list(map( lambda i:(i[::-1]) , li ))\n",
    "odd_list.sort()\n",
    "new_list=list(map( lambda i:(i[::-1]) , odd_list ))\n",
    "print(new_list)"
   ]
  },
  {
   "cell_type": "markdown",
   "id": "217dd9ed-b04e-4154-b357-037619a18fd1",
   "metadata": {},
   "source": [
    "Q2. Write a Python Program to find the squares of all the numbers in the given list of integers using\n",
    "lambda and map functions.\n",
    "[1, 2, 3, 4, 5, 6, 7, 8, 9, 10]"
   ]
  },
  {
   "cell_type": "code",
   "execution_count": 2,
   "id": "c7659c16-e384-4079-b02d-29616092118a",
   "metadata": {},
   "outputs": [
    {
     "name": "stdout",
     "output_type": "stream",
     "text": [
      "[1, 4, 9, 16, 25, 36, 49, 64, 81, 100]\n"
     ]
    }
   ],
   "source": [
    "li=[1, 2, 3, 4, 5, 6, 7, 8, 9, 10]\n",
    "newl=list(map(lambda i:i**2, li))\n",
    "print(newl)"
   ]
  },
  {
   "cell_type": "markdown",
   "id": "b9230359-31b1-4b1d-9b98-8eace655f859",
   "metadata": {},
   "source": [
    "Q3. Write a python program to convert the given list of integers into a tuple of strings. Use map and\n",
    "lambda functions\n",
    "Given String: [1, 2, 3, 4, 5, 6, 7, 8, 9, 10]\n",
    "Expected output: ('1', '2', '3', '4', '5', '6', '7', '8', '9', '10')\n"
   ]
  },
  {
   "cell_type": "code",
   "execution_count": 3,
   "id": "9cea4241-0808-48b8-abaf-7a4d2144e866",
   "metadata": {},
   "outputs": [
    {
     "name": "stdout",
     "output_type": "stream",
     "text": [
      "('1', '2', '3', '4', '5', '6', '7', '8', '9', '10')\n"
     ]
    }
   ],
   "source": [
    "li= [1, 2, 3, 4, 5, 6, 7, 8, 9, 10] \n",
    "upl=tuple(map(lambda i:str(i), li))\n",
    "print(upl)"
   ]
  },
  {
   "cell_type": "markdown",
   "id": "3f7a87a1-b377-4028-8fff-faedb60b6251",
   "metadata": {},
   "source": [
    "Q4. Write a python program using reduce function to compute the product of a list containing numbers\n",
    "from 1 to 25."
   ]
  },
  {
   "cell_type": "code",
   "execution_count": 7,
   "id": "992ea389-782e-4495-b4be-9562c74d264a",
   "metadata": {},
   "outputs": [
    {
     "name": "stdout",
     "output_type": "stream",
     "text": [
      "15511210043330985984000000\n"
     ]
    }
   ],
   "source": [
    "import functools\n",
    "li=[i for i in range(1,26)]\n",
    "mul=functools.reduce(lambda x,y:(x*y),li)\n",
    "print(mul)"
   ]
  },
  {
   "cell_type": "markdown",
   "id": "f09e2523-1cac-4951-9186-0f42cffea1d0",
   "metadata": {},
   "source": [
    "Q5. Write a python program to filter the numbers in a given list that are divisible by 2 and 3 using the\n",
    "filter function."
   ]
  },
  {
   "cell_type": "code",
   "execution_count": 20,
   "id": "93c105f9-6d67-4d4a-b353-f94d7d011031",
   "metadata": {},
   "outputs": [
    {
     "name": "stdin",
     "output_type": "stream",
     "text": [
      "Enter number 6 24 12 72 34 66 78\n"
     ]
    },
    {
     "name": "stdout",
     "output_type": "stream",
     "text": [
      "[6, 24, 12, 72, 66, 78]\n"
     ]
    }
   ],
   "source": [
    "li= list (map (int, input(\"Enter number\").split()))\n",
    "\n",
    "#li=[2,3,6,12,24,32]\n",
    "def divisible(num):\n",
    "    if(num%2==0 and num%3==0):\n",
    "        return True\n",
    "    else:\n",
    "        return False\n",
    "newlist=list(filter(divisible,li))\n",
    "print(newlist)"
   ]
  },
  {
   "cell_type": "markdown",
   "id": "73fecd3b-d82e-4eb9-aa55-5ce9622493f6",
   "metadata": {},
   "source": [
    "Q6.Write a python program to find palindromes in the given list of strings using lambda and filter\n",
    "function.\n",
    "['python', 'php', 'aba', 'radar', 'level']"
   ]
  },
  {
   "cell_type": "code",
   "execution_count": 22,
   "id": "7b8b587c-65a8-488c-8777-ebc573ef91c7",
   "metadata": {},
   "outputs": [
    {
     "name": "stdout",
     "output_type": "stream",
     "text": [
      "['php', 'aba', 'radar', 'level']\n"
     ]
    }
   ],
   "source": [
    "li=['python', 'php', 'aba', 'radar', 'level']\n",
    "new=list(filter(lambda i:(i==i[::-1]),li))\n",
    "print(new)"
   ]
  },
  {
   "cell_type": "code",
   "execution_count": null,
   "id": "98b8c0f9-01f5-470e-929c-272641f8c256",
   "metadata": {},
   "outputs": [],
   "source": []
  }
 ],
 "metadata": {
  "kernelspec": {
   "display_name": "Python 3 (ipykernel)",
   "language": "python",
   "name": "python3"
  },
  "language_info": {
   "codemirror_mode": {
    "name": "ipython",
    "version": 3
   },
   "file_extension": ".py",
   "mimetype": "text/x-python",
   "name": "python",
   "nbconvert_exporter": "python",
   "pygments_lexer": "ipython3",
   "version": "3.10.8"
  }
 },
 "nbformat": 4,
 "nbformat_minor": 5
}
