{
 "cells": [
  {
   "cell_type": "code",
   "execution_count": 1,
   "id": "021e1dc6-6077-4045-b607-c46701df1c6e",
   "metadata": {},
   "outputs": [
    {
     "ename": "SyntaxError",
     "evalue": "invalid character '‘' (U+2018) (2836183486.py, line 8)",
     "output_type": "error",
     "traceback": [
      "\u001b[0;36m  Cell \u001b[0;32mIn[1], line 8\u001b[0;36m\u001b[0m\n\u001b[0;31m    You can either use a single (‘’) quotation or double (“”) quotation or triple(''' ''') for multi line comments.\u001b[0m\n\u001b[0m                                 ^\u001b[0m\n\u001b[0;31mSyntaxError\u001b[0m\u001b[0;31m:\u001b[0m invalid character '‘' (U+2018)\n"
     ]
    }
   ],
   "source": [
    "Q1.\n",
    "ans: We can comment in python using \"#\" for single line comment.\n",
    "#hello welcome to pw platform\n",
    "\n",
    "The next way is by using string literals but not assigning them to any variables. \n",
    "If we do not assign a string literal to a variable, the Python interpreter ignores it.\n",
    "  \n",
    "You can either use a single (‘’) quotation or double (“”) quotation or triple(''' ''') for multi line comments.\n",
    "\n",
    "\" hello welcome to pw platform amnd start your carrer .\n",
    "youwill learn data science and other courses here\"\n",
    "\n",
    "''' hello welcome to pw platform amnd start your carrer .\n",
    "youwill learn data science and other courses here '''"
   ]
  },
  {
   "cell_type": "code",
   "execution_count": null,
   "id": "d01bcc23-b1e2-435e-80c6-756863bfeb0a",
   "metadata": {},
   "outputs": [],
   "source": [
    "Q2.\n",
    "ans: Variables is a symbolic representation which is used to store references of an object. \n",
    "In python we can directly create variable without defining data types.\n",
    "Rules for creating variable:\n",
    "    A variable name must start with a letter or the underscore character.\n",
    "    A variable name cannot start with a number.\n",
    "    A variable name can only contain alpha-numeric characters and underscores (A-z, 0-9, and _ )\n",
    "    Variable names are case-sensitive (age, Age and AGE are three different variables)\n",
    "    \n",
    "    integer variable:- a=98\n",
    "    float variable:- a=9.8\n",
    "    boolean variable f=True\n",
    "    etc\n"
   ]
  },
  {
   "cell_type": "code",
   "execution_count": null,
   "id": "4de66243-e437-4eae-ba39-d96d9126e95f",
   "metadata": {},
   "outputs": [],
   "source": [
    "Q3.\n",
    "ans: we can convert one data types to another by using as mention below:\n",
    "    1.integer , float to string using str() method\n",
    "    2.string , float to integer using int() method \"all string cannot be converted to int and float\"\n",
    "    3.to list using list() method\n",
    "    etc."
   ]
  },
  {
   "cell_type": "markdown",
   "id": "2221eac6-1fa6-4c4e-9331-8b4143d48e1a",
   "metadata": {},
   "source": [
    "Q4.\n",
    "ans:  The most basic and easy way to run a Python script is by using the python command. \n",
    "You need to open a command line and type the word python followed by the path to your script \n",
    "file like this: python first_script.py Hello World! \n",
    "Then you hit the ENTER button from the keyboard, and that's it."
   ]
  },
  {
   "cell_type": "code",
   "execution_count": null,
   "id": "2629f14c-e9d3-4303-8786-2011ffa48ca1",
   "metadata": {},
   "outputs": [],
   "source": [
    " # Q5. Given a list my_list = [1, 2, 3, 4, 5], write the code to slice the list and obtain the sub-list [2, 3].\n",
    "my_list=[1,2,3,4,5]\n",
    "print(my_list[1:3])\n",
    "\n",
    "      "
   ]
  },
  {
   "cell_type": "code",
   "execution_count": null,
   "id": "1d1fe818-c3cb-4fd7-be0c-8bd17e11cfba",
   "metadata": {},
   "outputs": [],
   "source": [
    "Q6.\n",
    "ans: Complex number is a combination of both real and imaginary part.\n",
    "It can represented as (a + bi) where\n",
    "a=real part\n",
    "b=real part\n",
    "i=imaginary part =square root -1"
   ]
  },
  {
   "cell_type": "code",
   "execution_count": null,
   "id": "f25e0546-1b78-40fe-9c35-65d1f35e308e",
   "metadata": {},
   "outputs": [],
   "source": [
    "Q7.\n",
    "ans:  the correct way to declare a variable named age and assign the value 25 to it is\n",
    "     age=int(25)"
   ]
  },
  {
   "cell_type": "code",
   "execution_count": null,
   "id": "56fc9532-2da4-431b-830d-f90547c21783",
   "metadata": {},
   "outputs": [],
   "source": [
    "Q8.\n",
    "ans: price=9.99\n",
    "it belongs to float which is verified using type(price)"
   ]
  },
  {
   "cell_type": "code",
   "execution_count": 2,
   "id": "8f6be24f-1c0e-4c87-9db5-98fd18390793",
   "metadata": {},
   "outputs": [
    {
     "data": {
      "text/plain": [
       "'Dipu Yadav'"
      ]
     },
     "execution_count": 2,
     "metadata": {},
     "output_type": "execute_result"
    }
   ],
   "source": [
    "#Q9.\n",
    "name=\"Dipu Yadav\"\n",
    "print(name)\n",
    " "
   ]
  },
  {
   "cell_type": "code",
   "execution_count": 3,
   "id": "5f57b389-9b22-400c-a6f5-1177f135a7fd",
   "metadata": {},
   "outputs": [
    {
     "data": {
      "text/plain": [
       "'World'"
      ]
     },
     "execution_count": 3,
     "metadata": {},
     "output_type": "execute_result"
    }
   ],
   "source": [
    "#Q10.\n",
    "s=\"Hello, World!\"\n",
    "s[7:12:1]\n"
   ]
  },
  {
   "cell_type": "code",
   "execution_count": 4,
   "id": "5c0a1c83-0fc5-4c66-baf0-c0e24dcc7a8b",
   "metadata": {},
   "outputs": [
    {
     "name": "stdout",
     "output_type": "stream",
     "text": [
      "True\n"
     ]
    }
   ],
   "source": [
    "#Q11.\n",
    "is_Student=True\n",
    "print(is_Student)"
   ]
  },
  {
   "cell_type": "code",
   "execution_count": null,
   "id": "7bdd8300-ee9d-4e76-bcfd-676877ed9214",
   "metadata": {},
   "outputs": [],
   "source": []
  }
 ],
 "metadata": {
  "kernelspec": {
   "display_name": "Python 3 (ipykernel)",
   "language": "python",
   "name": "python3"
  },
  "language_info": {
   "codemirror_mode": {
    "name": "ipython",
    "version": 3
   },
   "file_extension": ".py",
   "mimetype": "text/x-python",
   "name": "python",
   "nbconvert_exporter": "python",
   "pygments_lexer": "ipython3",
   "version": "3.10.8"
  }
 },
 "nbformat": 4,
 "nbformat_minor": 5
}
