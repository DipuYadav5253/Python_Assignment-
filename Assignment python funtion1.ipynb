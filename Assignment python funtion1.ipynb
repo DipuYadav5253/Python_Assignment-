{
 "cells": [
  {
   "cell_type": "code",
   "execution_count": 3,
   "id": "13ea1eb2-d0d3-4fe3-9ba1-414dd79b514b",
   "metadata": {},
   "outputs": [
    {
     "data": {
      "text/plain": [
       "[1, 3, 5, 7, 9, 11, 13, 15, 17, 19, 21, 23, 25]"
      ]
     },
     "execution_count": 3,
     "metadata": {},
     "output_type": "execute_result"
    }
   ],
   "source": [
    "'''Q1. Which keyword is used to create a function? Create a function to return a list of odd numbers in the\n",
    "range of 1 to 25.'''\n",
    "\n",
    "# def  keyword is used to create funtion.\n",
    "\n",
    "def odd():\n",
    "    for i in range(26):\n",
    "        if(i%2!=0):\n",
    "            yield i\n",
    "list(odd())        \n"
   ]
  },
  {
   "cell_type": "code",
   "execution_count": 1,
   "id": "ebc2c39e-65be-4b1e-94ea-9770ab691ca4",
   "metadata": {},
   "outputs": [
    {
     "name": "stdout",
     "output_type": "stream",
     "text": [
      "[1, 3, 'dipu']\n",
      "{'a': 1, 'b': 'saonu', 'c': [1, 5, 7]}\n"
     ]
    }
   ],
   "source": [
    "''' Q2. Why *args and **kwargs is used in some functions? Create a function each for *args and **kwargs\n",
    "to demonstrate their use. '''\n",
    "\n",
    "'''*args is used to pass multiple arguments and **kwargs is used to pass multiple arguments in form of key value which retunr dictionary'''\n",
    "\n",
    "def arguments(*args):\n",
    "    return args\n",
    "\n",
    "def karguments(**kwargs):\n",
    "    return kwargs\n",
    "\n",
    "print(list(arguments(1,3,\"dipu\")))\n",
    "print(karguments(a=1,b=\"saonu\",c=[1,5,7]))"
   ]
  },
  {
   "cell_type": "code",
   "execution_count": 6,
   "id": "af595b28-9571-4128-b3ae-546cc2f4c392",
   "metadata": {},
   "outputs": [
    {
     "name": "stdout",
     "output_type": "stream",
     "text": [
      "2\n",
      "4\n",
      "6\n",
      "8\n",
      "10\n"
     ]
    }
   ],
   "source": [
    "''' Q3. What is an iterator in python? Name the method used to initialise the iterator object and the method\n",
    "used for iteration. Use these methods to print the first five elements of the given list [2, 4, 6, 8, 10, 12, 14,\n",
    "16, 18, 20]. '''\n",
    "\n",
    "# ANS:\n",
    "''' An iterator is an object that contains a countable number of values.iter() is used to initialise the iterator object. '''\n",
    "    \n",
    "lis=[ 2, 4, 6, 8, 10, 12, 14, 16, 18, 20]\n",
    "\n",
    "l=iter(lis)\n",
    "for i in range(5):\n",
    "    print(next(l))\n",
    "        "
   ]
  },
  {
   "cell_type": "markdown",
   "id": "503692d1-4b96-48d6-8645-bd30be88e341",
   "metadata": {},
   "source": [
    "Q4.What is a generator function in python? Why yield keyword is used? Give an example of a generator\n",
    "function.\n",
    "\n",
    "  Generator functions are those functions that, instead of returning a single value, return an iterable generator object. You can access or read the values returned from the generator function stored inside a generator object one-by-one using a simple loop or using next() or list() methods."
   ]
  },
  {
   "cell_type": "code",
   "execution_count": 7,
   "id": "8090569e-7e5e-4153-9012-7e96b48ded28",
   "metadata": {},
   "outputs": [
    {
     "data": {
      "text/plain": [
       "[1, 3, 5, 7, 9, 11, 13, 15, 17, 19, 21, 23, 25]"
      ]
     },
     "execution_count": 7,
     "metadata": {},
     "output_type": "execute_result"
    }
   ],
   "source": [
    "def generators():\n",
    "    for i in range(26):\n",
    "        if(i%2!=0):\n",
    "            yield i\n",
    "list(generators())  "
   ]
  },
  {
   "cell_type": "markdown",
   "id": "060e7f3d-48e1-453b-a054-ed1a5b0c1651",
   "metadata": {},
   "source": [
    "Q5.Create a generator function for prime numbers less than 1000. Use the next() method to print the\n",
    "first 20 prime numbers."
   ]
  },
  {
   "cell_type": "code",
   "execution_count": 11,
   "id": "913c4ce8-6230-4662-855b-b4089cea31fe",
   "metadata": {},
   "outputs": [
    {
     "name": "stdout",
     "output_type": "stream",
     "text": [
      "[3, 5, 7, 11, 13, 17, 19, 23, 29, 31, 37, 41, 43, 47, 53, 59, 61, 67, 71, 73]\n"
     ]
    }
   ],
   "source": [
    "def primeNumber():\n",
    "    for i in range(1,1000):\n",
    "        flag=False\n",
    "        for j in range(2,i):\n",
    "            if(i%j==0):\n",
    "                flag=False\n",
    "                break\n",
    "            else:\n",
    "                flag=True\n",
    "        if (flag):\n",
    "            yield i\n",
    "            \n",
    "                \n",
    "li=list(primeNumber())\n",
    "lp=iter(li)\n",
    "lprime=[]\n",
    "for i in range(20):\n",
    "    lprime.append(next(lp))\n",
    "print(lprime)    "
   ]
  },
  {
   "cell_type": "markdown",
   "id": "e5f8ec4a-730f-4e86-92d5-e73d2f083db4",
   "metadata": {},
   "source": [
    "Q6.Write a python program to print the first 10 Fibonacci numbers using a while loop."
   ]
  },
  {
   "cell_type": "code",
   "execution_count": 16,
   "id": "8d3ac7b1-75e9-42e3-9d3c-6e8a735c6e33",
   "metadata": {},
   "outputs": [
    {
     "name": "stdout",
     "output_type": "stream",
     "text": [
      "[0, 1, 1, 2, 3, 5, 8, 13, 21, 34]\n"
     ]
    }
   ],
   "source": [
    "def fibo(n):\n",
    "    a=0\n",
    "    b=1\n",
    "\n",
    "    while(n>0):\n",
    "        yield a\n",
    "        c=a+b\n",
    "        a=b\n",
    "        b=c\n",
    "        n=n-1\n",
    "print(list(fibo(10)))        "
   ]
  },
  {
   "cell_type": "markdown",
   "id": "f6344454-c902-4495-af4b-6f112903904d",
   "metadata": {},
   "source": [
    "Q7. Write a List Comprehension to iterate through the given string: ‘pwskills’.\n",
    "Expected output: ['p', 'w', 's', 'k', 'i', 'l', 'l', 's']"
   ]
  },
  {
   "cell_type": "code",
   "execution_count": 24,
   "id": "5d8366c4-9150-42ee-963c-e4153ccbec18",
   "metadata": {},
   "outputs": [
    {
     "name": "stdout",
     "output_type": "stream",
     "text": [
      "['p', 'w', 's', 'k', 'i', 'l', 'l', 's', 't']\n"
     ]
    }
   ],
   "source": [
    "s=\"pwskills\"\n",
    "\n",
    "li=[ i for i in s]\n",
    " \n",
    "print(li)    \n",
    "    "
   ]
  },
  {
   "cell_type": "markdown",
   "id": "9694e14a-2cfa-4336-b1bb-0c73dde3f4d4",
   "metadata": {},
   "source": [
    "Q8. Write a python program to check whether a given number is Palindrome or not using a while loop."
   ]
  },
  {
   "cell_type": "code",
   "execution_count": 21,
   "id": "1a7b2081-51d1-4b77-b560-557322f8225c",
   "metadata": {},
   "outputs": [
    {
     "name": "stdin",
     "output_type": "stream",
     "text": [
      " 121\n"
     ]
    },
    {
     "name": "stdout",
     "output_type": "stream",
     "text": [
      "yes it is palindrome number\n"
     ]
    }
   ],
   "source": [
    "a=input()\n",
    "rev=a[::-1]\n",
    "if(a==rev):\n",
    "    print(\"yes it is palindrome number\")\n",
    "else:\n",
    "    print(\"No it is not!.\")"
   ]
  },
  {
   "cell_type": "markdown",
   "id": "4bcea898-3108-4b63-8f41-46e99fdfe2e1",
   "metadata": {},
   "source": [
    "Q9. Write a code to print odd numbers from 1 to 100 using list comprehension."
   ]
  },
  {
   "cell_type": "code",
   "execution_count": 22,
   "id": "3465e487-9108-4359-9108-f6fba24db784",
   "metadata": {},
   "outputs": [
    {
     "name": "stdout",
     "output_type": "stream",
     "text": [
      "[1, 3, 5, 7, 9, 11, 13, 15, 17, 19, 21, 23, 25, 27, 29, 31, 33, 35, 37, 39, 41, 43, 45, 47, 49, 51, 53, 55, 57, 59, 61, 63, 65, 67, 69, 71, 73, 75, 77, 79, 81, 83, 85, 87, 89, 91, 93, 95, 97, 99]\n"
     ]
    }
   ],
   "source": [
    "li=[i for i in range(101)]\n",
    "lodd=[ i for i in range(100) if i%2!=0 ]\n",
    "print(li)"
   ]
  },
  {
   "cell_type": "code",
   "execution_count": null,
   "id": "c6913e21-1411-4218-889e-a43d24bf80ba",
   "metadata": {},
   "outputs": [],
   "source": []
  }
 ],
 "metadata": {
  "kernelspec": {
   "display_name": "Python 3 (ipykernel)",
   "language": "python",
   "name": "python3"
  },
  "language_info": {
   "codemirror_mode": {
    "name": "ipython",
    "version": 3
   },
   "file_extension": ".py",
   "mimetype": "text/x-python",
   "name": "python",
   "nbconvert_exporter": "python",
   "pygments_lexer": "ipython3",
   "version": "3.10.8"
  }
 },
 "nbformat": 4,
 "nbformat_minor": 5
}
