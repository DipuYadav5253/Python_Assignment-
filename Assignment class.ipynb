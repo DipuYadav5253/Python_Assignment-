{
 "cells": [
  {
   "cell_type": "markdown",
   "id": "5df4d197-63b9-4c5f-b1d7-6e5382a802a3",
   "metadata": {},
   "source": [
    "Q1, Create a vehicle class with an init method having instance variables as name_of_vehicle, max_speed\n",
    "and average_of_vehicle."
   ]
  },
  {
   "cell_type": "code",
   "execution_count": 2,
   "id": "b9a54bca-5d4a-460d-b6af-36f8a0346705",
   "metadata": {},
   "outputs": [
    {
     "name": "stdout",
     "output_type": "stream",
     "text": [
      "('Honda', 120, 60)\n"
     ]
    }
   ],
   "source": [
    "class vechile:\n",
    "    def __init__(self,name_of_vechile,max_speed,average_of_vechile):\n",
    "        self.name_of_vechile=name_of_vechile\n",
    "        self.max_speed=max_speed\n",
    "        self.average_of_vechile=average_of_vechile\n",
    "    def vechile_details(self):\n",
    "        return self.name_of_vechile, self.max_speed, self.average_of_vechile\n",
    "vech=vechile(\"Honda\",120,60)\n",
    "print(vech.vechile_details())"
   ]
  },
  {
   "cell_type": "markdown",
   "id": "0a85d2c0-9b40-44fa-a0eb-d450e953e57b",
   "metadata": {},
   "source": [
    "Q2. Create a child class car from the vehicle class created in Que 1, which will inherit the vehicle class.\n",
    "Create a method named seating_capacity which takes capacity as an argument and returns the name of\n",
    "the vehicle and its seating capacity."
   ]
  },
  {
   "cell_type": "code",
   "execution_count": 6,
   "id": "ed85f2b3-406e-433c-bb0c-9fd20f395519",
   "metadata": {},
   "outputs": [
    {
     "data": {
      "text/plain": [
       "('suzuki', 10)"
      ]
     },
     "execution_count": 6,
     "metadata": {},
     "output_type": "execute_result"
    }
   ],
   "source": [
    "class car(vechile):\n",
    "    def seating_capacity(self,capacity):\n",
    "        self.capacity=capacity\n",
    "        return self.name_of_vechile,self.capacity\n",
    "c=car(\"suzuki\",200,90)\n",
    "c.seating_capacity(10)"
   ]
  },
  {
   "cell_type": "markdown",
   "id": "1972082b-4d32-4de0-8d1d-6fc7757f7833",
   "metadata": {},
   "source": [
    "Q3. What is multiple inheritance? Write a python code to demonstrate multiple inheritance\n",
    "   \n",
    "   When a class is derived from mulitple parent class then it is called multiple inheritance.\n",
    "   Child class can access  features of all parent class."
   ]
  },
  {
   "cell_type": "code",
   "execution_count": 7,
   "id": "173852a9-e28c-41f6-9909-bd81c6492201",
   "metadata": {},
   "outputs": [
    {
     "name": "stdout",
     "output_type": "stream",
     "text": [
      " This is Animal class\n",
      " This is mammal class\n",
      " This is cow class\n"
     ]
    }
   ],
   "source": [
    "class animal:\n",
    "    def animalmethod(self):\n",
    "        return\" This is Animal class\"\n",
    "    \n",
    "class mammal:\n",
    "    def mammalmethod(self):\n",
    "        return\" This is mammal class\"\n",
    "class cow(animal,mammal):\n",
    "    def cowmethod(self):\n",
    "        return\" This is cow class\"\n",
    "    \n",
    "    \n",
    "cow_obj=cow()\n",
    "print(cow_obj.animalmethod())\n",
    "print(cow_obj.mammalmethod())\n",
    "print(cow_obj.cowmethod())"
   ]
  },
  {
   "cell_type": "markdown",
   "id": "3d754b64-cc27-4a96-992f-f9ea3560ceb7",
   "metadata": {},
   "source": [
    "Q.4 What are getter and setter in python? Create a class and create a getter and a setter method in this\n",
    "class.\n",
    "   \n",
    "    Setter are used to set the data for the member of class.\n",
    "    If any member of class is private then that cannot be accesed out of the class \n",
    "    so we use setter method to set values of that variable and getter method to get value of that method.\n",
    "    "
   ]
  },
  {
   "cell_type": "code",
   "execution_count": 1,
   "id": "fc9a02be-b45c-4ad5-9497-0ac613f58876",
   "metadata": {},
   "outputs": [
    {
     "name": "stdout",
     "output_type": "stream",
     "text": [
      "(1, 'Dipu', 12453)\n",
      "Sagar\n"
     ]
    }
   ],
   "source": [
    "class bank:\n",
    "    def __init__(self,iid,name,account):\n",
    "        self.__iid=iid\n",
    "        self.__name=name\n",
    "        self.__account=account\n",
    "        \n",
    "    def details(self):\n",
    "        return self.__iid, self.__name,self.__account\n",
    "        \n",
    "    def iid_setter(self,iid):\n",
    "         self.__iid=iid\n",
    "    \n",
    "    def name_setter(self,name):\n",
    "         self.__name=name\n",
    "    \n",
    "    def account_setter(self,account):\n",
    "         self.__account=account\n",
    "     \n",
    "    \n",
    "    \n",
    "    def iid_getter(self):\n",
    "        return self.__iid\n",
    "    \n",
    "    def name_getter(self):\n",
    "        return self.__name\n",
    "    \n",
    "    def account_getter(self):\n",
    "        return self.__account\n",
    "    \n",
    "obj=bank(1,\"Dipu\",12453)\n",
    "print(obj.details())\n",
    "obj.name_setter(\"Sagar\")\n",
    "print(obj.name_getter())"
   ]
  },
  {
   "cell_type": "markdown",
   "id": "696bee5c-b1ab-404d-9f64-62da15e41dfd",
   "metadata": {},
   "source": [
    "Q5.What is method overriding in python? Write a python code to demonstrate method overriding.\n",
    "  \n",
    "    In pyhton, if there is same method with same method signature in both parent class and child class then methood of parent class is override by child class.\n",
    "    This is called method overriding."
   ]
  },
  {
   "cell_type": "code",
   "execution_count": null,
   "id": "fa2c0fdb-7828-4dbb-9b5c-7a99e43cf66f",
   "metadata": {},
   "outputs": [],
   "source": [
    "class parent:\n",
    "    def parentmet(self):\n",
    "        print(\"This is parent class method\")\n",
    "\n",
    "class child(parent):\n",
    "    def"
   ]
  }
 ],
 "metadata": {
  "kernelspec": {
   "display_name": "Python 3 (ipykernel)",
   "language": "python",
   "name": "python3"
  },
  "language_info": {
   "codemirror_mode": {
    "name": "ipython",
    "version": 3
   },
   "file_extension": ".py",
   "mimetype": "text/x-python",
   "name": "python",
   "nbconvert_exporter": "python",
   "pygments_lexer": "ipython3",
   "version": "3.10.8"
  }
 },
 "nbformat": 4,
 "nbformat_minor": 5
}
