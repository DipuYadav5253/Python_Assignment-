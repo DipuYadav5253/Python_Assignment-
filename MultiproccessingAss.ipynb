{
 "cells": [
  {
   "cell_type": "markdown",
   "id": "86371845-43d5-4a72-958a-a0c9c5856266",
   "metadata": {},
   "source": [
    "Q1. What is multiprocessing in python? Why is it useful?\n",
    "\n",
    " Multiprocessing in Python refers to the use of multiple processes to achieve parallelism and concurrency in a program. It allows a Python program to utilize multiple CPU cores or processors to execute tasks simultaneously. Each process runs independently, has its memory space, and can perform its calculations without interfering with other processes. \n",
    " \n",
    "Improved Performance\n",
    "True Parallelism\n",
    "Utilizing Multiple Cores\n",
    "Fault Isolation\n",
    "Distributed Computing\n",
    "Simpler Synchronization\n",
    "Scalability\n",
    "Task Separation\n",
    "Resource Utilization"
   ]
  },
  {
   "cell_type": "markdown",
   "id": "feb9e1b8-791d-46b0-b2d8-bffb3c8a9a8a",
   "metadata": {},
   "source": [
    "Q2. What are the differences between multiprocessing and multithreading?\n",
    " \n",
    " Multiprocessing: Uses multiple independent processes running on separate CPU cores, achieving true parallelism, suitable for CPU-bound tasks, better fault isolation, and bypasses the GIL for improved performance.\n",
    "\n",
    "Multithreading: Utilizes multiple threads within a single process, limited by the GIL in CPython, suitable for I/O-bound tasks, requires explicit synchronization, shared memory, and may impact overall stability."
   ]
  },
  {
   "cell_type": "markdown",
   "id": "1e3abf16-ad9b-450d-8369-e695e6d6d1b1",
   "metadata": {},
   "source": [
    "Q3. Write a python code to create a process using the multiprocessing module."
   ]
  },
  {
   "cell_type": "code",
   "execution_count": 1,
   "id": "f67c57df-0500-46dc-bcf8-426c0a2f50c7",
   "metadata": {},
   "outputs": [
    {
     "name": "stdout",
     "output_type": "stream",
     "text": [
      "Hello, Alice! This is a new process.\n",
      "Main process completed.\n"
     ]
    }
   ],
   "source": [
    "import multiprocessing\n",
    "\n",
    "def my_function(name):\n",
    "    print(f\"Hello, {name}! This is a new process.\")\n",
    "\n",
    "if __name__ == \"__main__\":\n",
    "    # Create a new process\n",
    "    process = multiprocessing.Process(target=my_function, args=(\"Alice\",))\n",
    "\n",
    "    # Start the process\n",
    "    process.start()\n",
    "\n",
    "    # Wait for the process to finish\n",
    "    process.join()\n",
    "\n",
    "    print(\"Main process completed.\")\n"
   ]
  },
  {
   "cell_type": "markdown",
   "id": "631cef68-a131-46c6-ac1e-4963611d1f20",
   "metadata": {},
   "source": [
    "Q4. What is a multiprocessing pool in python? Why is it used?\n",
    "\n",
    "   A multiprocessing pool in Python allows you to create a group of worker processes to perform tasks concurrently, utilizing multiple CPUs or cores for faster execution of CPU-bound tasks. It automatically manages task distribution, synchronization, and communication between processes, providing parallel processing capabilities.\n",
    "   \n",
    "It is used because:\n",
    "   \n",
    "Achieves parallel processing.\n",
    "Distributes CPU-bound tasks across multiple cores.\n",
    "Improves performance for CPU-intensive tasks.\n",
    "Efficiently utilizes multiple CPUs or cores.\n",
    "Simplifies task distribution and workload balancing.\n",
    "Handles synchronization and communication between processes.\n",
    "Provides true parallelism for CPU-bound tasks.\n",
    "Enhances application performance and efficiency.\n",
    "Utilizes modern hardware capabilities effectively.\n",
    "\n",
    "\n",
    "\n",
    "\n",
    "\n"
   ]
  },
  {
   "cell_type": "markdown",
   "id": "ae411216-9d46-40f7-8eda-f1313088c847",
   "metadata": {},
   "source": [
    "Q5. How can we create a pool of worker processes in python using the multiprocessing module?"
   ]
  },
  {
   "cell_type": "code",
   "execution_count": 2,
   "id": "dd44e586-4836-4e25-aa7c-c8ce25c989fe",
   "metadata": {},
   "outputs": [
    {
     "name": "stdout",
     "output_type": "stream",
     "text": [
      "Results: [1, 4, 9, 16, 25]\n"
     ]
    }
   ],
   "source": [
    "import multiprocessing\n",
    "\n",
    "# Define the target function for worker processes\n",
    "def square(number):\n",
    "    return number ** 2\n",
    "\n",
    "if __name__ == \"__main__\":\n",
    "    # Create a multiprocessing pool with 4 worker processes\n",
    "    with multiprocessing.Pool(processes=4) as pool:\n",
    "        # List of input data for the square function\n",
    "        numbers = [1, 2, 3, 4, 5]\n",
    "\n",
    "        # Use map() to distribute the tasks to worker processes\n",
    "        results = pool.map(square, numbers)\n",
    "\n",
    "    # Output the results\n",
    "    print(\"Results:\", results)\n"
   ]
  },
  {
   "cell_type": "code",
   "execution_count": null,
   "id": "1ad1a27b-b3a8-4a9c-be0f-8685c50c74b2",
   "metadata": {},
   "outputs": [],
   "source": []
  }
 ],
 "metadata": {
  "kernelspec": {
   "display_name": "Python 3 (ipykernel)",
   "language": "python",
   "name": "python3"
  },
  "language_info": {
   "codemirror_mode": {
    "name": "ipython",
    "version": 3
   },
   "file_extension": ".py",
   "mimetype": "text/x-python",
   "name": "python",
   "nbconvert_exporter": "python",
   "pygments_lexer": "ipython3",
   "version": "3.10.8"
  }
 },
 "nbformat": 4,
 "nbformat_minor": 5
}
