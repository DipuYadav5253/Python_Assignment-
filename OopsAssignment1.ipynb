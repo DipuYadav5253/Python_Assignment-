{
 "cells": [
  {
   "cell_type": "markdown",
   "id": "8a9a0c94-3665-4eba-9e9d-513fb8e58e3f",
   "metadata": {},
   "source": [
    "Q1. Explain Class and Object with respect to Object-Oriented Programming. Give a suitable example.\n"
   ]
  },
  {
   "cell_type": "markdown",
   "id": "b06341af-5f18-4cf2-92a3-96988bfeecff",
   "metadata": {},
   "source": [
    "In object-oriented programming (OOP), a class is a blueprint or template for creating objects, while an object is an instance of a class. A class defines the properties (attributes) and behaviors (methods) that objects of that class will have."
   ]
  },
  {
   "cell_type": "code",
   "execution_count": 8,
   "id": "77aff462-8da9-4aac-be43-1bd25624dbd4",
   "metadata": {},
   "outputs": [
    {
     "name": "stdout",
     "output_type": "stream",
     "text": [
      "model of your car is 14\n",
      "number of your car isUP56 E\n"
     ]
    }
   ],
   "source": [
    "class car: #class defining\n",
    "    def __init__(self,model,number):\n",
    "        self.model=model\n",
    "        self.number=number\n",
    "        \n",
    "    def showModel(self):\n",
    "        print(f\"model of your car is {self.model}\")\n",
    "    \n",
    "    def showNumber(self):\n",
    "        print(f\"number of your car is{self.number}\")\n",
    "        \n",
    "myCar=car(14 , \"UP56 E\") #object creation\n",
    "myCar.showModel()\n",
    "myCar.showNumber()\n",
    "\n",
    "        \n",
    "        \n",
    "        "
   ]
  },
  {
   "cell_type": "markdown",
   "id": "c2631999-8a22-483e-bbe5-d4d191118cfe",
   "metadata": {},
   "source": [
    "Q2. Name the four pillars of OOPs.\n",
    "Ans:\n",
    "1.Encapsulation: Bundling of data and methods into a class for data hiding and modular programming.\n",
    "\n",
    "2.Inheritance: Mechanism for classes to acquire properties from other classes, promoting code reuse and hierarchy.\n",
    "\n",
    "3.Polymorphism: Ability of objects to take on multiple forms, enabling flexibility and a common interface for different types of objects.\n",
    "\n",
    "4.Abstraction: Representing complex entities with simplified models, focusing on essential features while hiding unnecessary details."
   ]
  },
  {
   "cell_type": "markdown",
   "id": "4e2f3600-d89c-4149-a63f-708440ede9d4",
   "metadata": {},
   "source": [
    "Q3. Explain why the __init__() function is used. Give a suitable example. "
   ]
  },
  {
   "cell_type": "markdown",
   "id": "fc4bdbab-fbf4-458b-8952-0572df1c4e16",
   "metadata": {},
   "source": [
    "The __init__() function is a special method  that is automatically called when an object is created from the class. It is used to initialize the attributes of the object.\n",
    "It is specially used to defines and initialize the attributes of class when object is created."
   ]
  },
  {
   "cell_type": "code",
   "execution_count": 9,
   "id": "352b585d-fe0c-4e29-b94a-fed395f58bf5",
   "metadata": {},
   "outputs": [
    {
     "name": "stdout",
     "output_type": "stream",
     "text": [
      "Welcome! MR. Dipu to Nepal\n"
     ]
    }
   ],
   "source": [
    "class INIT:\n",
    "    def __init__(self,name,country):\n",
    "        self.name=name\n",
    "        self.country=country\n",
    "    def greating(self):\n",
    "        print(f\"Welcome! MR. {self.name} to {self.country}\")\n",
    "initobj=INIT(\"Dipu\",\"Nepal\")\n",
    "initobj.greating()"
   ]
  },
  {
   "cell_type": "markdown",
   "id": "0f0baf6d-74ec-41fc-a5b7-c0be13b72db2",
   "metadata": {},
   "source": [
    "Q4. Why self is used in OOPs?\n",
    "\n",
    "Ans:\n",
    "    In object-oriented programming (OOP), the self keyword is used as a convention to refer to the instance (object) of a class within the class methods. It acts as a reference to the current object on which the method is being called.\n",
    "    \n",
    "1.Attribute Access: By using self, methods can access the object's attributes and perform operations on them. It allows for the encapsulation of data within an object and enables the object to maintain its state.\n",
    "\n",
    "2.Method Invocation: Using self, methods can call other methods of the same object. It provides a way to invoke other behaviors and functionalities within the object.\n",
    "\n",
    "3.Differentiating Local Variables: By using self, you can distinguish between local variables and instance variables within the class methods. It helps to avoid confusion and ensures that the intended object's attributes are accessed or modified.\n",
    "\n",
    "4.Inheritance and Polymorphism: The use of self facilitates the inheritance mechanism, allowing derived classes to override or extend the behavior of base class methods while maintaining access to the inherited attributes and methods through the self reference."
   ]
  },
  {
   "cell_type": "markdown",
   "id": "b7d46474-3413-4f02-b213-2d0dda6f5b9b",
   "metadata": {},
   "source": [
    "Q5. What is inheritance? Give an example for each type of inheritance.\n",
    "\n",
    "Ans: Inheritance is a mechanism in which property of parent class is inherited by child class.\n",
    "It means child can access all non-private property of parent class.\n"
   ]
  },
  {
   "cell_type": "code",
   "execution_count": 11,
   "id": "0d0cab3e-8779-4edc-b181-946c8be9e6c1",
   "metadata": {},
   "outputs": [
    {
     "name": "stdout",
     "output_type": "stream",
     "text": [
      "Name: Dipu\n",
      "Email: is hello@gmail.com\n"
     ]
    },
    {
     "ename": "AttributeError",
     "evalue": "'child' object has no attribute '_child__password'",
     "output_type": "error",
     "traceback": [
      "\u001b[0;31m---------------------------------------------------------------------------\u001b[0m",
      "\u001b[0;31mAttributeError\u001b[0m                            Traceback (most recent call last)",
      "Cell \u001b[0;32mIn[11], line 17\u001b[0m\n\u001b[1;32m     15\u001b[0m ch\u001b[38;5;241m.\u001b[39mparentName()\n\u001b[1;32m     16\u001b[0m ch\u001b[38;5;241m.\u001b[39mparentEmail()\n\u001b[0;32m---> 17\u001b[0m \u001b[43mch\u001b[49m\u001b[38;5;241;43m.\u001b[39;49m\u001b[43mparentPassword\u001b[49m\u001b[43m(\u001b[49m\u001b[43m)\u001b[49m\n",
      "Cell \u001b[0;32mIn[11], line 13\u001b[0m, in \u001b[0;36mchild.parentPassword\u001b[0;34m(self)\u001b[0m\n\u001b[1;32m     12\u001b[0m \u001b[38;5;28;01mdef\u001b[39;00m \u001b[38;5;21mparentPassword\u001b[39m(\u001b[38;5;28mself\u001b[39m):\n\u001b[0;32m---> 13\u001b[0m     \u001b[38;5;28mprint\u001b[39m(\u001b[38;5;124mf\u001b[39m\u001b[38;5;124m\"\u001b[39m\u001b[38;5;124mPassword: \u001b[39m\u001b[38;5;132;01m{\u001b[39;00m\u001b[38;5;28;43mself\u001b[39;49m\u001b[38;5;241;43m.\u001b[39;49m\u001b[43m__password\u001b[49m\u001b[38;5;132;01m}\u001b[39;00m\u001b[38;5;124m\"\u001b[39m)\n",
      "\u001b[0;31mAttributeError\u001b[0m: 'child' object has no attribute '_child__password'"
     ]
    }
   ],
   "source": [
    "class Parent:\n",
    "    def __init__(self,name,email,password):\n",
    "        self.name=name\n",
    "        self._email=email\n",
    "        self.__password=password\n",
    "class child(Parent):\n",
    "    def parentName(self):\n",
    "        print(f\"Name: {self.name}\")\n",
    "    def parentEmail(self):\n",
    "        print(f\"Email: is {self._email}\")\n",
    "        \n",
    "    def parentPassword(self):\n",
    "        print(f\"Password: {self.__password}\")\n",
    "ch=child(\"Dipu\",\"hello@gmail.com\",\"1234\") \n",
    "ch.parentName()\n",
    "ch.parentEmail()\n",
    "ch.parentPassword() #gives error as we are trying to access \n"
   ]
  },
  {
   "cell_type": "code",
   "execution_count": null,
   "id": "635c9524-5c0b-4f1f-a708-256585e36d02",
   "metadata": {},
   "outputs": [],
   "source": []
  }
 ],
 "metadata": {
  "kernelspec": {
   "display_name": "Python 3 (ipykernel)",
   "language": "python",
   "name": "python3"
  },
  "language_info": {
   "codemirror_mode": {
    "name": "ipython",
    "version": 3
   },
   "file_extension": ".py",
   "mimetype": "text/x-python",
   "name": "python",
   "nbconvert_exporter": "python",
   "pygments_lexer": "ipython3",
   "version": "3.10.8"
  }
 },
 "nbformat": 4,
 "nbformat_minor": 5
}
