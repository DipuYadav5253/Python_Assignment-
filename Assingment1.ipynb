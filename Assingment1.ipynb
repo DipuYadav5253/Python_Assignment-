{
 "cells": [
  {
   "cell_type": "markdown",
   "id": "6cb3f21c-cb42-40e0-bc31-df5096157985",
   "metadata": {},
   "source": [
    "Q1.\n",
    "ans: Here variable of following data types:\n",
    "    a=23                  integer variable\n",
    "    ab=23.45              float variable\n",
    "    li=[1,4,\"ser\",4.5]    list variable\n",
    "    tup=(1,3,\"der\",56.67) tuple variable"
   ]
  },
  {
   "cell_type": "code",
   "execution_count": 7,
   "id": "0e7a28da-7fc6-436c-a28b-d3d34641d740",
   "metadata": {},
   "outputs": [
    {
     "name": "stdout",
     "output_type": "stream",
     "text": [
      "<class 'str'>\n",
      "<class 'str'>\n",
      "<class 'list'>\n",
      "<class 'float'>\n"
     ]
    }
   ],
   "source": [
    "#Q2.\n",
    "var1 = ' ' \n",
    "# it is string varibale\n",
    "print(type(var1))\n",
    "\n",
    "var2 = '[ DS , ML , Python]'\n",
    "#it is also string variable\n",
    "print(type(var2))\n",
    "\n",
    "var3 = [ 'DS' , 'ML' , 'Python' ]\n",
    "#it is list varibale\n",
    "print(type(var3))\n",
    "\n",
    "var4 = 1.\n",
    "#it is float variable\n",
    "print(type(var4))"
   ]
  },
  {
   "cell_type": "code",
   "execution_count": 12,
   "id": "4009f129-6072-4d75-93e0-8039dc137b7a",
   "metadata": {},
   "outputs": [
    {
     "data": {
      "text/plain": [
       "9"
      ]
     },
     "execution_count": 12,
     "metadata": {},
     "output_type": "execute_result"
    }
   ],
   "source": [
    "#Q3.\n",
    "#(i) / :- it is divide operator which gives decimal values .\n",
    "5/2 #ans 2.5\n",
    "\n",
    "#(ii) % :- it is modulo operator which gives remainder\n",
    "5%2 # ans 1\n",
    "\n",
    "#(iii) // :- it  divide the numerator by denominator and round down the values and return whole number\n",
    "5//2 # ans quotient=2\n",
    "\n",
    "#iv ** :- it is power operator. it gives left operand to power right operand\n",
    "3**2 # ans 9"
   ]
  },
  {
   "cell_type": "code",
   "execution_count": 15,
   "id": "fb29c54e-b323-4c51-b206-0278a83c0e9a",
   "metadata": {},
   "outputs": [
    {
     "name": "stdout",
     "output_type": "stream",
     "text": [
      "1\n",
      "<class 'int'>\n",
      "3\n",
      "<class 'int'>\n",
      "3.4\n",
      "<class 'float'>\n",
      "hello\n",
      "<class 'str'>\n",
      "[2, 4, 5]\n",
      "<class 'list'>\n",
      "s\n",
      "<class 'str'>\n",
      "0\n",
      "<class 'int'>\n",
      "999.999\n",
      "<class 'float'>\n",
      "(2, 5, 44.5)\n",
      "<class 'tuple'>\n",
      "True\n",
      "<class 'bool'>\n"
     ]
    }
   ],
   "source": [
    "'''Q4. Create a list of length 10 of your choice containing multiple types of data. Using for loop print the\n",
    "element and its data type.'''\n",
    "\n",
    "li=[1,3,3.4,\"hello\",[2,4,5],'s',0,999.999,(2,5,44.50),True]\n",
    "for i in li:\n",
    "    print(i)\n",
    "    print(type(i))"
   ]
  },
  {
   "cell_type": "code",
   "execution_count": 2,
   "id": "d6494633-a934-438b-80a8-4eb0636bb13e",
   "metadata": {},
   "outputs": [
    {
     "name": "stdin",
     "output_type": "stream",
     "text": [
      " 20\n",
      " 2\n"
     ]
    },
    {
     "name": "stdout",
     "output_type": "stream",
     "text": [
      " yes it is divisible \n",
      "2\n"
     ]
    }
   ],
   "source": [
    "''' Q5. Using a while loop, verify if the number A is purely divisible by number B and if so then how many\n",
    "times it can be divisible. '''\n",
    "\n",
    "A=int(input())\n",
    "B=int(input())\n",
    "count=0\n",
    "while(A>B):\n",
    "    if (A%B==0):\n",
    "        count +=1\n",
    "    A=A/B\n",
    "if(count>0):\n",
    "    print(\" yes it is divisible \")\n",
    "else:\n",
    "    print(\"not divisible\")        \n",
    "print(count)   "
   ]
  },
  {
   "cell_type": "code",
   "execution_count": 3,
   "id": "64d26f05-1b84-4ad7-b79f-ef17f17817e1",
   "metadata": {},
   "outputs": [
    {
     "name": "stdout",
     "output_type": "stream",
     "text": [
      "Divisble by 3\n",
      "[3, 6, 9, 12, 15, 18, 21, 24]\n",
      "not divisible by 3\n",
      "[1, 2, 4, 5, 7, 8, 10, 11, 13, 14, 16, 17, 19, 20, 22, 23, 25]\n"
     ]
    }
   ],
   "source": [
    "''' Q6. Create a list containing 25 int type data. Using for loop and if-else condition print if the element is\n",
    "divisible by 3 or not. '''\n",
    "li=[1,2,3,4,5,6,7,8,9,10,11,12,13,14,15,16,17,18,19,20,21,22,23,24,25]\n",
    "li1=[]\n",
    "li2=[]\n",
    "for i in li:\n",
    "    if(i%3==0):\n",
    "        li1.append(i)\n",
    "    else:\n",
    "        li2.append(i)\n",
    "print(\"Divisble by 3\")        \n",
    "print(li1)\n",
    "print(\"not divisible by 3\")\n",
    "print(li2)"
   ]
  },
  {
   "cell_type": "code",
   "execution_count": 4,
   "id": "906193d6-4004-4c56-8b76-52841cc40734",
   "metadata": {},
   "outputs": [
    {
     "ename": "SyntaxError",
     "evalue": "unterminated string literal (detected at line 11) (1653483915.py, line 11)",
     "output_type": "error",
     "traceback": [
      "\u001b[0;36m  Cell \u001b[0;32mIn[4], line 11\u001b[0;36m\u001b[0m\n\u001b[0;31m    numbers, string, boolean,tuple ''''\u001b[0m\n\u001b[0m                                      ^\u001b[0m\n\u001b[0;31mSyntaxError\u001b[0m\u001b[0;31m:\u001b[0m unterminated string literal (detected at line 11)\n"
     ]
    }
   ],
   "source": [
    "'''Q7. What do you understand about mutable and immutable data types? Give examples for both showing\n",
    "this property.'''\n",
    "\n",
    "'''ans: Mutable data types are those which can be changed on the same memory location with same reference variable.\n",
    "    example:- \n",
    "    list, set , Dictionary \n",
    "    We can insert and delete values on above data types on same memroy locations.\n",
    "    \n",
    "    Immutable data types are those which cannot be changed on same memory loactions but create another refereces in another memrory loaction of same .\n",
    "    example: \n",
    "    numbers, string, boolean,tuple ''''\n",
    "\n",
    "s=\"hello\"\n",
    "s[0]='l' # gives error as it is immutable\n",
    "s\n",
    "\n"
   ]
  },
  {
   "cell_type": "code",
   "execution_count": null,
   "id": "ae54c52a-e20f-4917-ac0a-d705da943633",
   "metadata": {},
   "outputs": [],
   "source": []
  }
 ],
 "metadata": {
  "kernelspec": {
   "display_name": "Python 3 (ipykernel)",
   "language": "python",
   "name": "python3"
  },
  "language_info": {
   "codemirror_mode": {
    "name": "ipython",
    "version": 3
   },
   "file_extension": ".py",
   "mimetype": "text/x-python",
   "name": "python",
   "nbconvert_exporter": "python",
   "pygments_lexer": "ipython3",
   "version": "3.10.8"
  }
 },
 "nbformat": 4,
 "nbformat_minor": 5
}
