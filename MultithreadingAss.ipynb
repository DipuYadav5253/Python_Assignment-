{
 "cells": [
  {
   "cell_type": "markdown",
   "id": "8f7a9932-a036-443f-8cfa-941704951ee5",
   "metadata": {},
   "source": [
    "Q1). What is multithreading in python? Why is it used? Name the module used to handle threads in python.\n",
    "\n",
    "Multithreading in Python refers to the concurrent execution of multiple threads within the same process. A thread is a small unit of a process that can perform tasks independently and concurrently. Multithreading allows a Python program to execute multiple threads simultaneously, enabling it to perform concurrent operations efficiently.\n",
    "\n",
    "It is used beacause of following reason:\n",
    "Improved Performance: Multithreading allows a program to utilize multiple CPU cores, which can lead to improved performance for tasks that can be parallelized. For CPU-bound tasks, multithreading can speed up processing by dividing the work among multiple threads.\n",
    "\n",
    "Responsive User Interface: In graphical user interface (GUI) applications, multithreading is used to keep the user interface responsive while performing time-consuming tasks in the background. This prevents the user interface from freezing or becoming unresponsive during heavy computations.\n",
    "\n",
    "Concurrent I/O Operations: For I/O-bound tasks (e.g., reading/writing files, making network requests), multithreading can help in performing concurrent I/O operations, reducing the time spent waiting for I/O operations to complete.\n",
    "\n",
    "threading module is used to handle threads in python."
   ]
  },
  {
   "cell_type": "markdown",
   "id": "01559a2a-d55e-4a57-b12d-654722e38c06",
   "metadata": {},
   "source": [
    " Q2. Why threading module used? Write the use of the following functions\n",
    " \n",
    " The threading module in Python is used to work with threads, allowing you to create, manage, and synchronize multiple threads within a Python program\n",
    " \n",
    " 1.activeCount()\n",
    "     This function returns the number of currently active (alive) Thread objects. It includes the main thread as well as any threads that have been started but not yet finished or terminated.\n",
    " \n",
    " 2.currentThread()\n",
    "     This function returns the current Thread object corresponding to the thread from which it is called. It can be used to access information about the current thread, such as its name or ID.\n",
    "  \n",
    " 3.enumerate()\n",
    "    This function returns a list of all active Thread objects in the current process. It includes the main thread and any threads that have been started but not yet finished or terminated.\n",
    " \n",
    " \n",
    "   \n",
    " "
   ]
  },
  {
   "cell_type": "markdown",
   "id": "862a4bef-6e67-4df6-b96e-2a9d79aac49f",
   "metadata": {},
   "source": [
    "Q3. Explain the following functions\n",
    "\n",
    "1.run()\n",
    "  \n",
    "The run() method is not a standalone function but rather a method that you can define in your custom thread class. When you create a custom thread class by subclassing threading.Thread, you can override the run() method to define the behavior of the thread. The run() method is automatically called when you call the start() method on an instance of your custom thread class.\n",
    "\n",
    "2.start()\n",
    "\n",
    "The start() method is used to start the execution of the target function in a new thread. It initiates the concurrent execution of the target function and is a necessary step before any new thread can run its target function\n",
    "\n",
    "3.join()\n",
    "\n",
    "The join() method is used to wait for a thread to complete its execution. It blocks the calling thread (usually the main thread) until the target thread finishes. The program will not proceed to the next line of code after the join() call until the target thread has completed its work.\n",
    "\n",
    "4.isAlive()\n",
    "\n",
    "The isAlive() method is used to check whether a thread is currently running or has finished its execution. It returns True if the thread is still running and False if the thread has completed its work.\n",
    "\n"
   ]
  },
  {
   "cell_type": "code",
   "execution_count": 3,
   "id": "8324d428-8260-45a0-b39a-bc936a59ff42",
   "metadata": {},
   "outputs": [
    {
     "name": "stdout",
     "output_type": "stream",
     "text": [
      "This is my custom thread.\n",
      "Thread is alive\n"
     ]
    }
   ],
   "source": [
    "import threading\n",
    "\n",
    "class MyThread(threading.Thread):\n",
    "    def run(self):\n",
    "        print(\"This is my custom thread.\")\n",
    "\n",
    "my_thread = MyThread()\n",
    "my_thread.start()\n",
    "my_thread.join()\n",
    "\n",
    "if(my_thread.is_alive):\n",
    "    print(\"Thread is alive\")\n",
    "else:\n",
    "    print(\"thread is dead\")"
   ]
  },
  {
   "cell_type": "markdown",
   "id": "ac8ed2c4-5377-4036-ad18-c8267cd5c309",
   "metadata": {},
   "source": [
    "Q4. Write a python program to create two threads. Thread one must print the list of squares and thread\n",
    "two must print the list of cubes."
   ]
  },
  {
   "cell_type": "code",
   "execution_count": 10,
   "id": "2ca1370c-9613-4aa5-9789-98a6eaf10a86",
   "metadata": {},
   "outputs": [
    {
     "name": "stdout",
     "output_type": "stream",
     "text": [
      "[1, 4, 9, 16, 25, 36]\n",
      "<Thread(Thread-13 (square), stopped 140639752668736)>\n",
      "[1, 8, 27, 64, 125, 216]\n",
      "<Thread(Thread-14 (cube), stopped 140639752668736)>\n"
     ]
    }
   ],
   "source": [
    "import threading\n",
    "\n",
    "li=[1,2,3,4,5,6]\n",
    "def square(li):\n",
    "    ld=list(map(lambda i:i**2,li))\n",
    "    print(ld)\n",
    "def cube(li):\n",
    "    ld=list(map(lambda i:i**3,li))\n",
    "    print(ld)    \n",
    "sq_thread=threading.Thread(target=square, args=(li,))\n",
    "sq_thread.start()\n",
    "sq_thread.join()\n",
    "\n",
    "cb_thread=threading.Thread(target=cube, args=(li,))\n",
    "cb_thread.start()\n",
    "cb_thread.join()\n",
    " "
   ]
  },
  {
   "cell_type": "markdown",
   "id": "61702ea3-5db9-4169-9dad-a89e545dd224",
   "metadata": {},
   "source": [
    "Q5. State advantages and disadvantages of multithreading\n",
    "   \n",
    "    Advantages of Multithreading:\n",
    "\n",
    "Improved Performance: Multithreading can lead to improved performance in certain cases, particularly for CPU-bound tasks. By dividing the work among multiple threads, a program can utilize multiple CPU cores, making better use of the available computing resources.\n",
    "\n",
    "Responsive User Interface: In graphical user interface (GUI) applications, multithreading is essential to keep the user interface responsive while performing time-consuming tasks in the background. This prevents the UI from freezing and provides a better user experience.\n",
    "\n",
    "Concurrent I/O Operations: For I/O-bound tasks (e.g., reading/writing files, making network requests), multithreading can be beneficial as it allows the program to perform concurrent I/O operations, reducing the time spent waiting for I/O operations to complete.\n",
    "\n",
    "Task Parallelism: Multithreading is well-suited for task parallelism, where different threads perform independent tasks concurrently. This can result in faster execution of such tasks.\n",
    "\n",
    "Resource Sharing: Threads within the same process share the same memory space, making it easier for threads to communicate and share data. This can lead to efficient communication and resource sharing between threads.\n",
    "\n",
    "Disadvantages of Multithreading:\n",
    "\n",
    "Complexity and Difficulty of Debugging: Multithreading introduces complexities in managing thread synchronization and avoiding race conditions. Debugging and understanding multithreaded code can be challenging due to the potential for subtle and hard-to-reproduce bugs.\n",
    "\n",
    "Concurrency Issues: In multithreading, multiple threads can access shared resources concurrently, leading to potential issues like data corruption, race conditions, and deadlocks. Proper synchronization mechanisms (e.g., locks, semaphores) are required to address these issues.\n",
    "\n",
    "Overhead and Resource Consumption: Creating and managing threads have associated overhead. Too many threads can consume a significant amount of system resources, potentially leading to performance degradation.\n",
    "\n",
    "Global Interpreter Lock (GIL) in CPython: In the CPython implementation of Python, the Global Interpreter Lock (GIL) restricts the execution of Python bytecode to one thread at a time. This means that multithreading may not provide significant performance benefits for CPU-bound tasks in CPython.\n",
    "\n",
    "Complexity of Synchronization: Properly synchronizing access to shared resources can be complex, and incorrect synchronization can lead to difficult-to-debug issues. Overuse of locks can also result in contention and reduce parallelism.\n",
    "\n",
    "\n"
   ]
  },
  {
   "cell_type": "markdown",
   "id": "de5f2de7-0024-457a-a21e-51b685938fb8",
   "metadata": {},
   "source": [
    "Q6. Explain deadlocks and race conditions.\n",
    "\n",
    "Deadlock is a situation in which two or more threads are unable to proceed with their execution because they are each waiting for a resource that is held by another thread in the deadlock group. As a result, the threads end up in a circular waiting state, and none of them can make progress.\n"
   ]
  },
  {
   "cell_type": "code",
   "execution_count": null,
   "id": "0a756db0-5b80-4142-a882-1e59940c2d31",
   "metadata": {},
   "outputs": [],
   "source": [
    "import threading\n",
    "\n",
    "def function1():\n",
    "    lock1.acquire()\n",
    "    lock2.acquire()\n",
    "    # Do some work\n",
    "    lock2.release()\n",
    "    lock1.release()\n",
    "\n",
    "def function2():\n",
    "    lock2.acquire()\n",
    "    lock1.acquire()\n",
    "    # Do some work\n",
    "    lock1.release()\n",
    "    lock2.release()\n",
    "\n",
    "lock1 = threading.Lock()\n",
    "lock2 = threading.Lock()\n",
    "\n",
    "thread1 = threading.Thread(target=function1)\n",
    "thread2 = threading.Thread(target=function2)\n",
    "\n",
    "thread1.start()\n",
    "thread2.start()\n",
    "\n",
    "thread1.join()\n",
    "thread2.join()\n"
   ]
  }
 ],
 "metadata": {
  "kernelspec": {
   "display_name": "Python 3 (ipykernel)",
   "language": "python",
   "name": "python3"
  },
  "language_info": {
   "codemirror_mode": {
    "name": "ipython",
    "version": 3
   },
   "file_extension": ".py",
   "mimetype": "text/x-python",
   "name": "python",
   "nbconvert_exporter": "python",
   "pygments_lexer": "ipython3",
   "version": "3.10.8"
  }
 },
 "nbformat": 4,
 "nbformat_minor": 5
}
