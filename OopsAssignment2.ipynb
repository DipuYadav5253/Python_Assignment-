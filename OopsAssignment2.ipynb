{
 "cells": [
  {
   "cell_type": "markdown",
   "id": "fc4fa20a-b415-4b44-96a0-f2e9a42ecb8f",
   "metadata": {},
   "source": [
    "Q1. What is Abstraction in OOps? Explain with an example.\n",
    "\n",
    "Abstraction in object-oriented programming (OOP) is a concept that involves representing complex real-world entities as simplified models within a program. It focuses on extracting the essential features and behavior of an object while hiding unnecessary details."
   ]
  },
  {
   "cell_type": "code",
   "execution_count": 10,
   "id": "83dd40e7-1133-45e8-9807-9ec38a91f8a0",
   "metadata": {},
   "outputs": [
    {
     "name": "stdout",
     "output_type": "stream",
     "text": [
      "Dipu Nepal Cricket\n",
      "Dipu\n",
      "Shivam Nepal Volleyball\n",
      "Shivam\n"
     ]
    }
   ],
   "source": [
    "import abc\n",
    "class Parent:\n",
    "    \n",
    "    @abc.abstractmethod\n",
    "    def details(self):\n",
    "        pass\n",
    "    @abc.abstractmethod\n",
    "    def nameOnly(self):\n",
    "        pass\n",
    "class child1(Parent):\n",
    "    def __init__(self,name,country,hobby):\n",
    "        self.name=name\n",
    "        self.country=country\n",
    "        self.hobby=hobby\n",
    "    def details(self):\n",
    "        print(f\"{self.name} {self.country} {self.hobby}\")\n",
    "    def nameOnly(self):\n",
    "        print(self.name)\n",
    "        \n",
    "class child2(Parent):\n",
    "    def __init__(self,name,country,hobby):\n",
    "        self.name=name\n",
    "        self.country=country\n",
    "        self.hobby=hobby\n",
    "    def details(self):\n",
    "        print(f\"{self.name} {self.country} {self.hobby}\")\n",
    "    def nameOnly(self):\n",
    "        print(self.name)        \n",
    "ch=child1(\"Dipu\",\"Nepal\",\"Cricket\")\n",
    "ch.details()\n",
    "ch.nameOnly()\n",
    "\n",
    "ch=child1(\"Shivam\",\"Nepal\",\"Volleyball\")\n",
    "ch.details()\n",
    "ch.nameOnly()\n"
   ]
  },
  {
   "cell_type": "markdown",
   "id": "9ebae009-2a4d-4f57-b7ab-96cc95b283b9",
   "metadata": {},
   "source": [
    "Q2. Differentiate between Abstraction and Encapsulation. Explain with an example.\n",
    "\n",
    "Abstraction:\n",
    "\n",
    "Abstraction is about representing the essential features of an object while hiding the unnecessary details. It allows you to work with high-level concepts rather than getting involved in low-level implementation specifics.\n",
    "Abstraction helps in managing complexity, improving code readability, and promoting code reusability by creating abstract classes and interfaces that define a common interface for a group of related objects.\n",
    "Encapsulation:\n",
    "\n",
    "Encapsulation is the concept of bundling data and methods that operate on that data into a single unit (a class). It ensures that the internal state of an object is not directly accessible from outside the class, providing data hiding and protecting the object's state from unintended modifications.\n",
    "Encapsulation helps in maintaining the integrity of the data and provides better control over how data is accessed and modified."
   ]
  },
  {
   "cell_type": "code",
   "execution_count": 11,
   "id": "4fdd3f38-a373-417e-ba01-b4e22b94eb60",
   "metadata": {},
   "outputs": [
    {
     "name": "stdout",
     "output_type": "stream",
     "text": [
      "Dipu Nepal Cricket\n",
      "Dipu\n",
      "Shivam Nepal Volleyball\n",
      "Shivam\n"
     ]
    }
   ],
   "source": [
    "#Abstraction Example\n",
    "import abc\n",
    "class Parent:\n",
    "    \n",
    "    @abc.abstractmethod\n",
    "    def details(self):\n",
    "        pass\n",
    "    @abc.abstractmethod\n",
    "    def nameOnly(self):\n",
    "        pass\n",
    "class child1(Parent):\n",
    "    def __init__(self,name,country,hobby):\n",
    "        self.name=name\n",
    "        self.country=country\n",
    "        self.hobby=hobby\n",
    "    def details(self):\n",
    "        print(f\"{self.name} {self.country} {self.hobby}\")\n",
    "    def nameOnly(self):\n",
    "        print(self.name)\n",
    "        \n",
    "class child2(Parent):\n",
    "    def __init__(self,name,country,hobby):\n",
    "        self.name=name\n",
    "        self.country=country\n",
    "        self.hobby=hobby\n",
    "    def details(self):\n",
    "        print(f\"{self.name} {self.country} {self.hobby}\")\n",
    "    def nameOnly(self):\n",
    "        print(self.name)        \n",
    "ch=child1(\"Dipu\",\"Nepal\",\"Cricket\")\n",
    "ch.details()\n",
    "ch.nameOnly()\n",
    "\n",
    "ch=child1(\"Shivam\",\"Nepal\",\"Volleyball\")\n",
    "ch.details()\n",
    "ch.nameOnly()"
   ]
  },
  {
   "cell_type": "code",
   "execution_count": 15,
   "id": "e570879e-be09-4076-a3d5-1941f04c05cb",
   "metadata": {},
   "outputs": [
    {
     "name": "stdout",
     "output_type": "stream",
     "text": [
      "60000\n",
      "40000\n"
     ]
    }
   ],
   "source": [
    "#Encapsulation Example\n",
    "class BankAccount:\n",
    "    def __init__(self, account_number, balance):\n",
    "        self.__account_number = account_number\n",
    "        self.__balance = balance\n",
    "\n",
    "    def deposit(self, amount):\n",
    "        self.__balance += amount\n",
    "\n",
    "    def withdraw(self, amount):\n",
    "        if self.__balance >= amount:\n",
    "            self.__balance -= amount\n",
    "            return amount\n",
    "        else:\n",
    "            return \"Insufficient balance.\"\n",
    "\n",
    "    def get_balance(self):\n",
    "        return self.__balance\n",
    "obj=BankAccount(234,45000)\n",
    "obj.deposit(15000)\n",
    "print(obj.get_balance())\n",
    "obj.withdraw(20000)\n",
    "print(obj.get_balance())"
   ]
  },
  {
   "cell_type": "markdown",
   "id": "0a394836-b538-4410-910e-5d0cb2be349e",
   "metadata": {},
   "source": [
    "Q3. What is abc module in python? Why is it used?\n",
    " \n",
    "The abc module in Python stands for \"Abstract Base Classes.\" It provides tools for working with abstract classes and abstract methods, supporting the concept of abstraction in object-oriented programming.\n",
    "\n",
    "The main purpose of the abc module is to allow developers to define abstract classes and interfaces, which cannot be instantiated directly. Instead, they serve as blueprints for other classes, ensuring that any class inheriting from an abstract class must implement all its abstract methods.\n",
    "\n",
    "it has decorator \"abstractmethod\" which is used to define abstract methods within an abstract class. "
   ]
  },
  {
   "cell_type": "markdown",
   "id": "0aaf61fb-1ee3-4fef-8b53-7f5e92ba50c5",
   "metadata": {},
   "source": [
    "Q4. How can we achieve data abstraction?\n",
    "\n",
    "Data abstraction in object-oriented programming is achieved by using abstract classes and interfaces. These abstract entities allow you to represent the essential features and behavior of objects while hiding the implementation details.\n",
    "\n",
    "In Python, you can achieve data abstraction using the abc module and the abstractmethod decorator."
   ]
  },
  {
   "cell_type": "code",
   "execution_count": 16,
   "id": "933dae4a-0b6b-4b01-9444-f832e53485a5",
   "metadata": {},
   "outputs": [
    {
     "name": "stdout",
     "output_type": "stream",
     "text": [
      "NAme: Dipu class: 5A11 id: 1\n",
      "NAme: Saniu class: 5A12 id: 2\n"
     ]
    }
   ],
   "source": [
    "import abc\n",
    "class Student:\n",
    "    @abc.abstractmethod\n",
    "    def showDetails(self):\n",
    "        pass\n",
    "class Child(Student):\n",
    "    def __init__(self,name,clas,idd):\n",
    "        self.name=name\n",
    "        self.clas=clas\n",
    "        self.idd=idd\n",
    "    def showDetails(self):\n",
    "        print(f\"NAme: {self.name} class: {self.clas} id: {self.idd}\")\n",
    "        \n",
    "obj1=Child(\"Dipu\",\"5A11\",1)\n",
    "obj2=Child(\"Saniu\",\"5A12\",2)\n",
    "obj1.showDetails()\n",
    "obj2.showDetails()"
   ]
  },
  {
   "cell_type": "markdown",
   "id": "eb237755-fa59-4b66-80c4-ac5d199a3985",
   "metadata": {},
   "source": [
    "Q5. Can we create an instance of an abstract class? Explain your answer.\n",
    "  \n",
    "  No, we cannot create an instance of an abstract class in Python. Attempting to directly instantiate an abstract class will result in a TypeError.\n",
    "\n",
    "An abstract class is a class that contains one or more abstract methods. Abstract methods are methods without any implementation, and they are meant to be overridden by concrete subclasses. Since an abstract class is incomplete and does not provide implementations for its abstract methods, it cannot be instantiated on its own."
   ]
  },
  {
   "cell_type": "code",
   "execution_count": 18,
   "id": "abf365c9-2954-4e0c-8968-01781f486e07",
   "metadata": {},
   "outputs": [],
   "source": [
    "import abc\n",
    "class Student:\n",
    "    @abc.abstractmethod\n",
    "    def showDetails(self):\n",
    "        pass\n",
    "class Child(Student):\n",
    "    def __init__(self,name,clas,idd):\n",
    "        self.name=name\n",
    "        self.clas=clas\n",
    "        self.idd=idd\n",
    "    def showDetails(self):\n",
    "        print(f\"NAme: {self.name} class: {self.clas} id: {self.idd}\")\n",
    "        \n",
    "        \n",
    "obj=Student()        "
   ]
  },
  {
   "cell_type": "code",
   "execution_count": null,
   "id": "7e218eab-05a3-4bef-8af6-96ebccd9340c",
   "metadata": {},
   "outputs": [],
   "source": []
  }
 ],
 "metadata": {
  "kernelspec": {
   "display_name": "Python 3 (ipykernel)",
   "language": "python",
   "name": "python3"
  },
  "language_info": {
   "codemirror_mode": {
    "name": "ipython",
    "version": 3
   },
   "file_extension": ".py",
   "mimetype": "text/x-python",
   "name": "python",
   "nbconvert_exporter": "python",
   "pygments_lexer": "ipython3",
   "version": "3.10.8"
  }
 },
 "nbformat": 4,
 "nbformat_minor": 5
}
