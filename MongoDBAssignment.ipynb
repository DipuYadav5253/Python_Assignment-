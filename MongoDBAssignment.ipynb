{
 "cells": [
  {
   "cell_type": "markdown",
   "id": "493ed008-6a60-42a5-897a-fac66d3d55a4",
   "metadata": {},
   "source": [
    "Q1. What is MongoDB? Explain non-relational databases in short. In which scenarios it is preferred to use\n",
    "MongoDB over SQL databases?\n",
    "\n",
    " MongoDB is a popular open-source, document-oriented NoSQL database that provides high flexibility and scalability for storing, managing, and retrieving data. \n",
    " \n",
    " Non-relational databases, or NoSQL databases, are alternatives to traditional relational databases like SQL. They use flexible data models and are suitable for handling vast amounts of unstructured or semi-structured data. \n",
    " \n",
    " MongoDB is preferred over SQL databases in scenarios involving large-scale data, rapidly changing requirements, or the need for horizontal scaling, such as in applications like social media, content management, real-time analytics, and IoT.\n",
    "\n",
    "\n",
    "Q2. State and Explain the features of MongoDB.\n",
    "\n",
    "Document-Oriented: Stores data in flexible, JSON-like BSON documents.\n",
    "Schema-less: Documents within a collection can have different structures.\n",
    "Highly Scalable: Supports horizontal scaling by sharding data across multiple servers.\n",
    "Flexible Queries: Rich query language and indexing for efficient data retrieval.\n",
    "Aggregation Framework: Allows advanced data processing and transformation.\n",
    "High Availability: Supports replica sets for automatic failover and data redundancy.\n",
    "Geospatial Indexes: Allows for geospatial queries and data storage.\n",
    "Ad Hoc Queries: Supports dynamic queries on documents using a wide range of operators.\n",
    "JSON-like Documents: Familiar data representation for developers.\n",
    "Open-Source and Active Community: Continuously evolving with a strong developer community.\n",
    "\n",
    "\n",
    "Q3. Write a code to connect MongoDB to Python. Also, create a database and a collection in MongoDB.\n"
   ]
  },
  {
   "cell_type": "code",
   "execution_count": null,
   "id": "bebc9cd0-029a-4be7-9598-eecd2d136971",
   "metadata": {},
   "outputs": [],
   "source": [
    "import pymongo\n",
    "\n",
    "# Connect to MongoDB\n",
    "client = pymongo.MongoClient(\"mongodb://localhost:27017/\")\n",
    "\n",
    "# Create a database named \"mydatabase\"\n",
    "mydb = client[\"mydatabase\"]\n",
    "\n",
    "# Create a collection named \"mycollection\" within \"mydatabase\"\n",
    "mycol = mydb[\"mycollection\"]\n"
   ]
  },
  {
   "cell_type": "markdown",
   "id": "13f26bad-3cee-40ea-913f-7cdbd43ca727",
   "metadata": {},
   "source": [
    "Q4. Using the database and the collection created in question number 3, write a code to insert one record,\n",
    "and insert many records. Use the find() and find_one() methods to print the inserted record.\n",
    "\n"
   ]
  },
  {
   "cell_type": "code",
   "execution_count": null,
   "id": "5a4b2330-106c-4f88-8b45-2bf37d259566",
   "metadata": {},
   "outputs": [],
   "source": [
    "# Insert one record\n",
    "record1 = {\"name\": \"Alice\", \"age\": 28}\n",
    "mycol.insert_one(record1)\n",
    "\n",
    "# Insert many records\n",
    "records = [\n",
    "    {\"name\": \"Bob\", \"age\": 30},\n",
    "    {\"name\": \"Charlie\", \"age\": 25}\n",
    "]\n",
    "mycol.insert_many(records)\n",
    "\n",
    "# Print inserted records\n",
    "print(\"All Records:\")\n",
    "for record in mycol.find():\n",
    "    print(record)\n",
    "\n",
    "print(\"One Record:\")\n",
    "print(mycol.find_one())\n"
   ]
  },
  {
   "cell_type": "markdown",
   "id": "e5b7ec6e-9d05-4119-8e16-22b449cd1e09",
   "metadata": {},
   "source": [
    "Q5. Explain how you can use the find() method to query the MongoDB database. Write a simple code to\n",
    "demonstrate this.\n",
    "\n",
    "The find() method is used to query documents in a collection based on specified criteria.\n"
   ]
  },
  {
   "cell_type": "code",
   "execution_count": null,
   "id": "0e9d9149-8860-4581-84ec-2e28c5d99607",
   "metadata": {},
   "outputs": [],
   "source": [
    "# Find documents with age greater than 25\n",
    "query = {\"age\": {\"$gt\": 25}}\n",
    "results = mycol.find(query)\n",
    "\n",
    "print(\"Records with Age > 25:\")\n",
    "for result in results:\n",
    "    print(result)\n"
   ]
  },
  {
   "cell_type": "markdown",
   "id": "d612c2b8-be9c-48ed-b032-1b29dd918fca",
   "metadata": {},
   "source": [
    "Q6. Explain the sort() method. Give an example to demonstrate sorting in MongoDB.\n",
    " \n",
    " The sort() method is used to specify sorting order in queries."
   ]
  },
  {
   "cell_type": "code",
   "execution_count": null,
   "id": "7d27286a-336e-4fdc-8ebc-82a4c7c00856",
   "metadata": {},
   "outputs": [],
   "source": [
    "# Sort documents by age in ascending order\n",
    "sorted_results = mycol.find().sort(\"age\", 1)\n",
    "\n",
    "print(\"Sorted by Age (Ascending):\")\n",
    "for result in sorted_results:\n",
    "    print(result)\n"
   ]
  },
  {
   "cell_type": "markdown",
   "id": "fb52f24a-1554-4fbc-8f3e-06cd6c16684e",
   "metadata": {},
   "source": [
    "Q7. Explain why delete_one(), delete_many(), and drop() is used.\n",
    "  \n",
    "delete_one(filter): Deletes one document that matches the filter.\n",
    "delete_many(filter): Deletes multiple documents that match the filter.\n",
    "drop(): Deletes an entire collection.\n",
    "These methods are used to manage data removal in MongoDB.\n",
    "\n"
   ]
  },
  {
   "cell_type": "code",
   "execution_count": null,
   "id": "96b25a6d-de4a-4379-868c-fa750e5c2a82",
   "metadata": {},
   "outputs": [],
   "source": [
    "# Delete a document\n",
    "mycol.delete_one({\"name\": \"Alice\"})\n",
    "\n",
    "# Delete multiple documents\n",
    "mycol.delete_many({\"age\": {\"$lt\": 30}})\n",
    "\n",
    "# Drop the entire collection\n",
    "mycol.drop()\n"
   ]
  }
 ],
 "metadata": {
  "kernelspec": {
   "display_name": "Python 3 (ipykernel)",
   "language": "python",
   "name": "python3"
  },
  "language_info": {
   "codemirror_mode": {
    "name": "ipython",
    "version": 3
   },
   "file_extension": ".py",
   "mimetype": "text/x-python",
   "name": "python",
   "nbconvert_exporter": "python",
   "pygments_lexer": "ipython3",
   "version": "3.10.8"
  }
 },
 "nbformat": 4,
 "nbformat_minor": 5
}
