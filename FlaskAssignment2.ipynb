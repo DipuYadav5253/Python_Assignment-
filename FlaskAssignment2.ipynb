{
 "cells": [
  {
   "cell_type": "markdown",
   "id": "f58865dd-4e59-43e7-969e-d77027e4417a",
   "metadata": {},
   "source": [
    "Q1. Explain GET and POST methods:\n",
    "\n",
    "GET: The GET method is used to request data from a specified resource. It sends data through the URL's query parameters. It is primarily used for retrieving data and should not have any side effects on the server.\n",
    "POST: The POST method is used to submit data to be processed to a specified resource. It sends data in the request body, which is typically used to create or update resources on the server. It can have side effects on the server.\n",
    "\n",
    "Q2. Why is request used in Flask?\n",
    "In Flask, the request object is used to access the data sent by the client in an HTTP request. It allows you to access form data, query parameters, JSON data, files, and more from the request. This is essential for building dynamic web applications where the server needs to interact with client-provided data.\n",
    "\n",
    "Q3. Why is redirect() used in Flask?\n",
    "The redirect() function in Flask is used to redirect the client's browser to a different URL. It is commonly used after processing a form submission or handling some data to redirect the user to a new page. This is useful for maintaining proper flow in a web application and avoiding duplicate form submissions when the user refreshes the page.\n",
    "\n",
    "Q4. What are templates in Flask? Why is the render_template() function used?\n",
    "Templates in Flask are HTML files with placeholders for dynamic content. They allow you to separate the presentation layer (HTML) from the application logic (Python code). The render_template() function in Flask is used to render these templates, replacing placeholders with actual data. This helps in generating dynamic HTML pages by injecting data from your Python code into the HTML templates.\n",
    "\n",
    "Q5. Create a simple API. Use Postman to test it. Attach the screenshot of the output in the Jupyter Notebook:\n",
    "I'm an AI text model and I cannot directly create APIs or interact with external tools like Postman to provide screenshots. However, I can guide you through creating a simple API in Python using Flask. "
   ]
  },
  {
   "cell_type": "code",
   "execution_count": null,
   "id": "93598099-0e31-4014-b1a8-2e98316312e7",
   "metadata": {},
   "outputs": [],
   "source": [
    "from flask import Flask, jsonify, request\n",
    "\n",
    "app = Flask(__name__)\n",
    "\n",
    "# Define a simple API route\n",
    "@app.route('/api/hello', methods=['GET'])\n",
    "def hello():\n",
    "    return jsonify(message='Hello, API!')\n",
    "\n",
    "if __name__ == '__main__':\n",
    "    app.run(debug=True)\n"
   ]
  }
 ],
 "metadata": {
  "kernelspec": {
   "display_name": "Python 3 (ipykernel)",
   "language": "python",
   "name": "python3"
  },
  "language_info": {
   "codemirror_mode": {
    "name": "ipython",
    "version": 3
   },
   "file_extension": ".py",
   "mimetype": "text/x-python",
   "name": "python",
   "nbconvert_exporter": "python",
   "pygments_lexer": "ipython3",
   "version": "3.10.8"
  }
 },
 "nbformat": 4,
 "nbformat_minor": 5
}
