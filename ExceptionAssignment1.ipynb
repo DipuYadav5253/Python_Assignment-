{
 "cells": [
  {
   "cell_type": "markdown",
   "id": "7effa627-6a06-46b5-b099-bee6763a3ba0",
   "metadata": {},
   "source": [
    "Q1. What is an Exception in python.write difference between exception and syntax error.\n",
    "ans: \n",
    "    In Python, an exception is an error that occurs during the execution of a program, resulting in the interruption of the normal flow of code. When an exceptional situation arises, Python raises an exception to indicate that something unexpected or erroneous has happened. Exceptions allow you to handle error situations gracefully, rather than letting the program crash abruptly.\n",
    "    \n",
    "A syntax error occurs during the parsing phase of the program, which happens before the actual execution starts. It indicates that the code violates the rules of the Python language and cannot be translated into valid Python bytecode.\n",
    "\n"
   ]
  },
  {
   "cell_type": "code",
   "execution_count": 1,
   "id": "4a1afa14-8f3a-4de5-b9fc-59307155de06",
   "metadata": {},
   "outputs": [
    {
     "name": "stdout",
     "output_type": "stream",
     "text": [
      "error is division by zero\n"
     ]
    }
   ],
   "source": [
    "try:\n",
    "    2/0\n",
    "except Exception as e:\n",
    "    print(\"error is\",e)"
   ]
  },
  {
   "cell_type": "code",
   "execution_count": 2,
   "id": "fdf0eb71-66bc-4723-9685-66bd6c9881a9",
   "metadata": {},
   "outputs": [
    {
     "ename": "SyntaxError",
     "evalue": "expected ':' (477910556.py, line 2)",
     "output_type": "error",
     "traceback": [
      "\u001b[0;36m  Cell \u001b[0;32mIn[2], line 2\u001b[0;36m\u001b[0m\n\u001b[0;31m    if 2>3  #missing colon\u001b[0m\n\u001b[0m            ^\u001b[0m\n\u001b[0;31mSyntaxError\u001b[0m\u001b[0;31m:\u001b[0m expected ':'\n"
     ]
    }
   ],
   "source": [
    "#syntax error\n",
    "if 2>3  #missing colon \n",
    "   print(\"True\")"
   ]
  },
  {
   "cell_type": "markdown",
   "id": "16766cd8-23cb-4cf4-b9c9-748b4c5aed71",
   "metadata": {},
   "source": [
    "Q2. What happend when an exception is not handled.Explain with example.\n",
    "\n",
    "Ans:\n",
    "     When exception is not handled then normal flow of program will stop.The program will get terminated rather than executing remaining code."
   ]
  },
  {
   "cell_type": "code",
   "execution_count": 3,
   "id": "9688e266-219a-49f3-974a-9fa83bb2cb7f",
   "metadata": {},
   "outputs": [
    {
     "ename": "ZeroDivisionError",
     "evalue": "division by zero",
     "output_type": "error",
     "traceback": [
      "\u001b[0;31m---------------------------------------------------------------------------\u001b[0m",
      "\u001b[0;31mZeroDivisionError\u001b[0m                         Traceback (most recent call last)",
      "Cell \u001b[0;32mIn[3], line 5\u001b[0m\n\u001b[1;32m      3\u001b[0m a\u001b[38;5;241m=\u001b[39m\u001b[38;5;241m4\u001b[39m\n\u001b[1;32m      4\u001b[0m b\u001b[38;5;241m=\u001b[39m\u001b[38;5;241m0\u001b[39m\n\u001b[0;32m----> 5\u001b[0m c\u001b[38;5;241m=\u001b[39m\u001b[43ma\u001b[49m\u001b[38;5;241;43m/\u001b[39;49m\u001b[43mb\u001b[49m\n\u001b[1;32m      6\u001b[0m \u001b[38;5;28mprint\u001b[39m(c)\n\u001b[1;32m      8\u001b[0m \u001b[38;5;28mprint\u001b[39m(\u001b[38;5;124m\"\u001b[39m\u001b[38;5;124mProgram finished\u001b[39m\u001b[38;5;124m\"\u001b[39m) \u001b[38;5;66;03m#it will not execute\u001b[39;00m\n",
      "\u001b[0;31mZeroDivisionError\u001b[0m: division by zero"
     ]
    }
   ],
   "source": [
    "#exception not handled\n",
    "\n",
    "a=4\n",
    "b=0\n",
    "c=a/b\n",
    "print(c)\n",
    "\n",
    "print(\"Program finished\") #it will not execute"
   ]
  },
  {
   "cell_type": "code",
   "execution_count": 6,
   "id": "a495a297-bab8-41e9-9f1e-4f1a46ddd2b2",
   "metadata": {},
   "outputs": [
    {
     "name": "stdout",
     "output_type": "stream",
     "text": [
      "division by zero is handled\n",
      "Program finished\n"
     ]
    }
   ],
   "source": [
    "#exception handle\n",
    "try:\n",
    "    a=4\n",
    "    b=0\n",
    "    c=a/b\n",
    "    print(c)\n",
    "except ZeroDivisionError as e:\n",
    "    print(str(e)+\" is handled\")\n",
    "print(\"Program finished\") #it will  execute  "
   ]
  },
  {
   "cell_type": "markdown",
   "id": "69b88742-ab14-4513-84e4-8fff6a51d149",
   "metadata": {},
   "source": [
    "Q3. Which python statements are  used to catch and hanled exception.Explain with examples.\n",
    "Ans:   \n",
    "    In Python, the try, except, and optionally finally blocks are used to catch and handle exceptions. The try block contains the code that might raise an exception, and the except block specifies the actions to be taken if an exception of a specific type occurs. The finally block (if used) contains code that will be executed regardless of whether an exception occurred or not."
   ]
  },
  {
   "cell_type": "code",
   "execution_count": 8,
   "id": "731817a6-fb1b-4120-a571-c05c25d68bbb",
   "metadata": {},
   "outputs": [
    {
     "name": "stdout",
     "output_type": "stream",
     "text": [
      "Error is:  list index out of range\n",
      "Executed without caring about exception occured or not\n"
     ]
    }
   ],
   "source": [
    "try: \n",
    "    li=[1,2,3,4,5]\n",
    "    print(li[6])\n",
    "except Exception as e:\n",
    "    print(\"Error is: \",e)\n",
    "finally:\n",
    "    print(\"Executed without caring about exception occured or not\")"
   ]
  },
  {
   "cell_type": "markdown",
   "id": "bfebd910-2095-4ad8-acb8-03e18b393e42",
   "metadata": {},
   "source": [
    "Q4.Explain With example: \n",
    "\n",
    "A.try and else:\n",
    "       In Python, the try and else blocks are used together to handle exceptions and define code that should be executed when no exception occurs. The else block is optional and follows the except block(s) in a try-except statement. It contains code that will be executed only if no exception is raised in the try block.\n",
    "      "
   ]
  },
  {
   "cell_type": "code",
   "execution_count": 9,
   "id": "52d004c5-b68f-4609-ab6e-cec8bd1ff00c",
   "metadata": {},
   "outputs": [
    {
     "name": "stdout",
     "output_type": "stream",
     "text": [
      "Contains code which can cause exception\n",
      "Exception occure\n"
     ]
    }
   ],
   "source": [
    "#try and else\n",
    "try:\n",
    "    print(\"Contains code which can cause exception\")\n",
    "    li=[1,2,3]\n",
    "    print(li[4])\n",
    "except Exception as e:\n",
    "    print(\"Exception occured\")\n",
    "else:\n",
    "    print(\"Executed when no Exception occured\")# it will not execute\n",
    "    "
   ]
  },
  {
   "cell_type": "code",
   "execution_count": 10,
   "id": "ca7acdef-71ec-4168-8ef2-1b096b52eb1b",
   "metadata": {},
   "outputs": [
    {
     "name": "stdout",
     "output_type": "stream",
     "text": [
      "Contains code which can cause exception\n",
      "3\n",
      "Executed when no Exception occured\n"
     ]
    }
   ],
   "source": [
    "try:\n",
    "    print(\"Contains code which can cause exception\")\n",
    "    li=[1,2,3]\n",
    "    print(li[2])\n",
    "except Exception as e:\n",
    "    print(\"Exception occured\")\n",
    "else:\n",
    "    print(\"Executed when no Exception occured\")# it will execute now "
   ]
  },
  {
   "cell_type": "markdown",
   "id": "8a8f66d0-916d-4ab1-b623-fea24b8d5eb2",
   "metadata": {},
   "source": [
    "B.finally:\n",
    "     It allow to execute it's block of code without acring about whether exception occured.\n",
    "     \n",
    "        "
   ]
  },
  {
   "cell_type": "code",
   "execution_count": 11,
   "id": "928a03ea-e6b1-46e8-8249-de1e448553be",
   "metadata": {},
   "outputs": [
    {
     "name": "stdout",
     "output_type": "stream",
     "text": [
      "Contains code which can cause exception\n",
      "Exception occured\n",
      "Finally block Executed always\n"
     ]
    }
   ],
   "source": [
    "try:\n",
    "    print(\"Contains code which can cause exception\")\n",
    "    li=[1,2,3]\n",
    "    print(li[5])\n",
    "except Exception as e:\n",
    "    print(\"Exception occured\")\n",
    "finally:\n",
    "    print(\"Finally block Executed always\")# it will execute now "
   ]
  },
  {
   "cell_type": "markdown",
   "id": "d7c9e617-5e61-40d2-9038-a3a12fb41645",
   "metadata": {},
   "source": [
    "C.raise :\n",
    "    In Python, the raise keyword is used to raise an exception intentionally. It allows you to generate and handle custom exceptions or propagate existing exceptions when certain conditions are met in your code."
   ]
  },
  {
   "cell_type": "code",
   "execution_count": 12,
   "id": "f7247f6a-47cc-491a-b4c8-e0a6f68a49e7",
   "metadata": {},
   "outputs": [
    {
     "name": "stdout",
     "output_type": "stream",
     "text": [
      "Error: Division by zero is not allowed.\n"
     ]
    }
   ],
   "source": [
    "def divide_numbers(num1, num2):\n",
    "    if num2 == 0:\n",
    "        raise ValueError(\"Division by zero is not allowed.\")\n",
    "    return num1 / num2\n",
    "\n",
    "try:\n",
    "    result = divide_numbers(10, 0)\n",
    "    print(\"Result:\", result)\n",
    "except ValueError as e:\n",
    "    print(\"Error:\", e)\n",
    "    "
   ]
  },
  {
   "cell_type": "markdown",
   "id": "c3d50df6-7757-4640-942c-529097cac0c3",
   "metadata": {},
   "source": [
    "Q5. What are Custom Exception in python.Why do we need Custom Exception.Explain with examples.\n",
    "   \n",
    "   Custom exceptions in Python are user-defined exceptions created by deriving a new class from the built-in Exception class or any of its subclasses. By creating custom exceptions, you can define specific error conditions that are relevant to your application and provide meaningful error messages or additional information when exceptional situations arise. Custom exceptions help in better organizing and handling errors in your code.\n",
    "\n",
    "Reasons for using Custom Exceptions:\n",
    "\n",
    "Clarity and Readability: Custom exceptions allow you to give descriptive names to specific errors in your code. This makes it easier for developers to understand the cause of an exception when they encounter it in the codebase.\n",
    "\n",
    "Code Organization: By defining custom exceptions, you can group related error conditions together, making your code more organized and maintainable.\n",
    "\n",
    "Error Handling: Custom exceptions can be raised when specific situations occur, enabling more fine-grained error handling. You can catch and handle these exceptions separately in try-except blocks, allowing your code to take appropriate actions based on the exception type.\n"
   ]
  },
  {
   "cell_type": "code",
   "execution_count": 13,
   "id": "0932359a-b728-400e-81ce-bcbdb8fad0eb",
   "metadata": {},
   "outputs": [
    {
     "name": "stdout",
     "output_type": "stream",
     "text": [
      "Error: String cannot be used in division\n"
     ]
    }
   ],
   "source": [
    "def divide_numbers(num1, num2):\n",
    "    if (type(num1) or type(num2)!=int):\n",
    "        raise ValueError(\"String cannot be used in division\")\n",
    "    return num1 / num2\n",
    "\n",
    "try:\n",
    "    result = divide_numbers(10, \"j\")\n",
    "    print(\"Result:\", result)\n",
    "except ValueError as e:\n",
    "    print(\"Error:\", e)"
   ]
  },
  {
   "cell_type": "markdown",
   "id": "62fa39ae-7e73-42df-a63f-9d1b6cc03568",
   "metadata": {},
   "source": [
    "Q6.Create a custom exception class.Use it to handle exception."
   ]
  },
  {
   "cell_type": "code",
   "execution_count": 25,
   "id": "323fa7e6-250d-479a-9090-c4be55a7f85e",
   "metadata": {},
   "outputs": [
    {
     "name": "stdout",
     "output_type": "stream",
     "text": [
      "Format not supported\n"
     ]
    }
   ],
   "source": [
    "\n",
    "class ExceptionHandler(Exception):\n",
    "    def __init__(self,message=\"Format not supported\"):\n",
    "        super().__init__(message)\n",
    "class Student:\n",
    "    def __init__(self,name,idd):\n",
    "        self.name=name;\n",
    "        self.idd=idd\n",
    "    def method(self):\n",
    "        if(type(self.name)==int and type(self.idd)==str):\n",
    "            raise ExceptionHandler()\n",
    "        else:\n",
    "            print(f\"name: {self.name} id: {self.idd}\")\n",
    "            \n",
    "try: \n",
    "    s=Student(1,\"Dipu\")\n",
    "    s.method()\n",
    "except Exception as e:\n",
    "    print(e)"
   ]
  },
  {
   "cell_type": "code",
   "execution_count": 26,
   "id": "d6f58d0e-1290-49e9-a935-8f02e2b2511f",
   "metadata": {},
   "outputs": [
    {
     "name": "stdout",
     "output_type": "stream",
     "text": [
      "name: Dipu id: 1\n"
     ]
    }
   ],
   "source": [
    "try: \n",
    "    s=Student(\"Dipu\",1)\n",
    "    s.method()\n",
    "except Exception as e:\n",
    "    print(e)"
   ]
  },
  {
   "cell_type": "code",
   "execution_count": null,
   "id": "2484d45d-6460-4a22-9781-3d325ddd18d3",
   "metadata": {},
   "outputs": [],
   "source": []
  }
 ],
 "metadata": {
  "kernelspec": {
   "display_name": "Python 3 (ipykernel)",
   "language": "python",
   "name": "python3"
  },
  "language_info": {
   "codemirror_mode": {
    "name": "ipython",
    "version": 3
   },
   "file_extension": ".py",
   "mimetype": "text/x-python",
   "name": "python",
   "nbconvert_exporter": "python",
   "pygments_lexer": "ipython3",
   "version": "3.10.8"
  }
 },
 "nbformat": 4,
 "nbformat_minor": 5
}
