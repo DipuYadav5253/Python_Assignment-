{
 "cells": [
  {
   "cell_type": "markdown",
   "id": "2f546746-562a-4ecb-8ab7-8661fbfd2af2",
   "metadata": {},
   "source": [
    "Q1. Flask Framework and Advantages:\n",
    "Flask is a lightweight and flexible web framework for Python. It's designed to make it easy to build web applications by providing tools and libraries for handling HTTP requests, routing, templates, and more. Advantages of Flask include:\n",
    "\n",
    "Lightweight and minimalistic, allowing you to build applications quickly.\n",
    "Modular and extensible, making it easy to add functionality as needed.\n",
    "Built-in development server for testing and debugging.\n",
    "Flexible URL routing for defining application endpoints.\n",
    "Integrated support for Jinja2 templates for rendering dynamic content.\n",
    "Supports third-party extensions to add features like authentication, database integration, etc."
   ]
  },
  {
   "cell_type": "markdown",
   "id": "fed4de74-c4e8-460b-bc68-cd938af11cd1",
   "metadata": {},
   "source": [
    "Q2. Create a simple Flask application to display ‘Hello World!!’. Attach the screenshot of the output in\n",
    "Jupyter Notebook."
   ]
  },
  {
   "cell_type": "code",
   "execution_count": null,
   "id": "e2d79aaf-63e3-4412-bfaa-551bd37b54af",
   "metadata": {},
   "outputs": [],
   "source": [
    "from flask import Flask\n",
    "\n",
    "app = Flask(__name__)\n",
    "\n",
    "@app.route('/')\n",
    "def hello_world():\n",
    "    return 'Hello World!!'\n",
    "\n",
    "if __name__ == '__main__':\n",
    "    app.run()\n"
   ]
  },
  {
   "cell_type": "markdown",
   "id": "5a10993a-7835-44a2-98ba-fa5751b727fb",
   "metadata": {},
   "source": [
    "Q3. What is App routing in Flask? Why do we use app routes?\n",
    "  \n",
    "  App routing in Flask refers to defining URL routes (endpoints) that map to specific functions in your application. When a user visits a certain URL, the associated function is called to handle the request. \n",
    "  We use app routes to define different pages or actions in our web application.\n",
    "  \n",
    "  \n",
    "  \n",
    "Q4. Create a “/welcome” route to display the welcome message “Welcome to ABC Corporation” and a “/”\n",
    "route to show the following details:\n",
    "Company Name: ABC Corporation\n",
    "Location: India\n",
    "Contact Detail: 999-999-9999\n",
    "Attach the screenshot of the output in Jupyter Notebook."
   ]
  },
  {
   "cell_type": "code",
   "execution_count": null,
   "id": "b2addbe2-cf85-49a6-8ca8-5bfefba69c28",
   "metadata": {},
   "outputs": [],
   "source": [
    "from flask import Flask\n",
    "\n",
    "app = Flask(__name__)\n",
    "\n",
    "@app.route('/welcome')\n",
    "def welcome():\n",
    "    return 'Welcome to ABC Corporation'\n",
    "\n",
    "@app.route('/')\n",
    "def company_info():\n",
    "    return '''\n",
    "    Company Name: ABC Corporation\n",
    "    Location: India\n",
    "    Contact Detail: 999-999-9999\n",
    "    '''\n",
    "\n",
    "if __name__ == '__main__':\n",
    "    app.run()\n"
   ]
  },
  {
   "cell_type": "code",
   "execution_count": null,
   "id": "d1868f95-bcaa-4d80-b10c-8ab5b7b86cd3",
   "metadata": {},
   "outputs": [],
   "source": [
    "Q5. What function is used in Flask for URL Building? Write a Python code to demonstrate the working of the\n",
    "url_for() function."
   ]
  }
 ],
 "metadata": {
  "kernelspec": {
   "display_name": "Python 3 (ipykernel)",
   "language": "python",
   "name": "python3"
  },
  "language_info": {
   "codemirror_mode": {
    "name": "ipython",
    "version": 3
   },
   "file_extension": ".py",
   "mimetype": "text/x-python",
   "name": "python",
   "nbconvert_exporter": "python",
   "pygments_lexer": "ipython3",
   "version": "3.10.8"
  }
 },
 "nbformat": 4,
 "nbformat_minor": 5
}
